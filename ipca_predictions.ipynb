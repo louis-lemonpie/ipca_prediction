{
 "cells": [
  {
   "attachments": {},
   "cell_type": "markdown",
   "id": "62c11057",
   "metadata": {
    "id": "OPn5hMlaNPk8",
    "papermill": {
     "duration": 0.019776,
     "end_time": "2023-06-16T20:31:56.745901",
     "exception": false,
     "start_time": "2023-06-16T20:31:56.726125",
     "status": "completed"
    },
    "tags": []
   },
   "source": [
    "## IPCA \n",
    "- **Órgão Responsável:** IBGE\n",
    "- **Divulgação:** Nos primeiros 10 dias úteis do mês. Referência do mês anterior. \n",
    "\n",
    "## IPCA-15 - Prévia do IPCA\n",
    "- **Órgão Responsável:** IBGE\n",
    "- **Divulgação:** Nos últimos 10 dias do mês. Referência do mês corrente. \n",
    "- **Antecedência:** De 10 a 15 dias antes do IPCA\n",
    "\n",
    "## INPC \n",
    "- **Órgão Responsável:** IBGE\n",
    "- **Divulgação:** Nos primeiros 10 dias úteis do mês. Referência do mês anterior. \n",
    "\n",
    "## INCC-DI - Índice Nacional da Construção Civil\n",
    "- **Órgão Responsável:** Fundação Getulio Vargas (FGV)\n",
    "- **Divulgação:** Nos primeiros 10 dias úteis do mês. Referência do mês anterior.\n",
    "- **Período de Medição:** Entre o primeiro e o último dia do mês de referência \n",
    "\n",
    "## INCC-10 - Prévia do INCC\n",
    "- **Órgão Responsável:** Fundação Getulio Vargas (FGV)\n",
    "- **Divulgação:** Segunda quinzena do mês de referência.\n",
    "- **Período de Medição:** Entre o dia 11 do mês anterior e o dia 10 do mês de referência\n",
    "\n",
    "## INCC-M - Índice Nacional da Construção Civil - Mercado\n",
    "- **Órgão Responsável:** Fundação Getulio Vargas (FGV)\n",
    "- **Divulgação:** Final de cada mês de referência\n",
    "- **Período de Medição:** Entre o dia 21 do mês anterior e o dia 20 do mês de referência\n",
    "\n",
    "## IPA-DI - Índice do Produtor Amplo\n",
    "- **Órgão Responsável:** Fundação Getulio Vargas (FGV)\n",
    "- **Divulgação:** Final de cada mês de referência\n",
    "- **Período de Medição:** Entre o dia 21 do mês anterior e o dia 20 do mês de referência\n",
    "\n",
    "## IPA-10 - Prévia do IPA\n",
    "- **Órgão Responsável:** Fundação Getulio Vargas (FGV)\n",
    "- **Divulgação:** Segunda quinzena do mês de referência.\n",
    "- **Período de Medição:** Entre o dia 11 do mês anterior e o dia 10 do mês de referência\n",
    "\n",
    "## IPA-M - Índice do Produtor Amplo - Mercado\n",
    "- **Órgão Responsável:** Fundação Getulio Vargas (FGV)\n",
    "- **Divulgação:** Final de cada mês de referência\n",
    "- **Período de Medição:** Entre o dia 21 do mês anterior e o dia 20 do mês de referência\n",
    "\n",
    "## IPC - Índice de Preços ao Consumidor\n",
    "- **Órgão Responsável:** Fundação Getulio Vargas (FGV)\n",
    "- **Divulgação:** Nos primeiros 10 dias úteis do mês. Referência do mês anterior.\n",
    "- **Período de Medição:** Primeiro e último mês de referência\n"
   ]
  },
  {
   "cell_type": "code",
   "execution_count": 1,
   "id": "7913f76e",
   "metadata": {
    "execution": {
     "iopub.execute_input": "2023-06-16T20:31:56.787017Z",
     "iopub.status.busy": "2023-06-16T20:31:56.786235Z",
     "iopub.status.idle": "2023-06-16T20:31:58.711524Z",
     "shell.execute_reply": "2023-06-16T20:31:58.710443Z"
    },
    "id": "sWdHfiG3Iuju",
    "papermill": {
     "duration": 1.948875,
     "end_time": "2023-06-16T20:31:58.714717",
     "exception": false,
     "start_time": "2023-06-16T20:31:56.765842",
     "status": "completed"
    },
    "tags": []
   },
   "outputs": [],
   "source": [
    "import pandas as pd\n",
    "import numpy as np\n",
    "import matplotlib.pyplot as plt\n",
    "from scipy import stats\n",
    "from sklearn.linear_model import LinearRegression\n",
    "from sklearn.model_selection import train_test_split\n",
    "from sklearn.metrics import mean_absolute_error, mean_squared_error\n",
    "from yellowbrick.regressor import ResidualsPlot\n",
    "import statsmodels.api as sm\n",
    "import statsmodels.formula.api as smapi"
   ]
  },
  {
   "cell_type": "code",
   "execution_count": 2,
   "id": "5bc932ad",
   "metadata": {
    "execution": {
     "iopub.execute_input": "2023-06-16T20:31:58.753501Z",
     "iopub.status.busy": "2023-06-16T20:31:58.753044Z",
     "iopub.status.idle": "2023-06-16T20:31:58.773019Z",
     "shell.execute_reply": "2023-06-16T20:31:58.771707Z"
    },
    "id": "iVWBo0pwJL4W",
    "papermill": {
     "duration": 0.043107,
     "end_time": "2023-06-16T20:31:58.776458",
     "exception": false,
     "start_time": "2023-06-16T20:31:58.733351",
     "status": "completed"
    },
    "tags": []
   },
   "outputs": [],
   "source": [
    "df = pd.read_csv(\"inflacao.csv\")"
   ]
  },
  {
   "cell_type": "code",
   "execution_count": 3,
   "id": "becb7c3d",
   "metadata": {
    "execution": {
     "iopub.execute_input": "2023-06-16T20:31:58.816565Z",
     "iopub.status.busy": "2023-06-16T20:31:58.815921Z",
     "iopub.status.idle": "2023-06-16T20:31:58.859364Z",
     "shell.execute_reply": "2023-06-16T20:31:58.858129Z"
    },
    "id": "9--e867dJVz-",
    "outputId": "4db1a506-cfc3-4f36-f1cf-45d49fdddc4a",
    "papermill": {
     "duration": 0.066109,
     "end_time": "2023-06-16T20:31:58.861983",
     "exception": false,
     "start_time": "2023-06-16T20:31:58.795874",
     "status": "completed"
    },
    "scrolled": true,
    "tags": []
   },
   "outputs": [
    {
     "data": {
      "text/html": [
       "<div>\n",
       "<style scoped>\n",
       "    .dataframe tbody tr th:only-of-type {\n",
       "        vertical-align: middle;\n",
       "    }\n",
       "\n",
       "    .dataframe tbody tr th {\n",
       "        vertical-align: top;\n",
       "    }\n",
       "\n",
       "    .dataframe thead th {\n",
       "        text-align: right;\n",
       "    }\n",
       "</style>\n",
       "<table border=\"1\" class=\"dataframe\">\n",
       "  <thead>\n",
       "    <tr style=\"text-align: right;\">\n",
       "      <th></th>\n",
       "      <th>referencia</th>\n",
       "      <th>ano</th>\n",
       "      <th>mes</th>\n",
       "      <th>ano_mes</th>\n",
       "      <th>ipca_variacao</th>\n",
       "      <th>ipca_acumulado_ano</th>\n",
       "      <th>ipca_acumulado_doze_meses</th>\n",
       "      <th>ipca15_variacao</th>\n",
       "      <th>ipca15_acumulado_ano</th>\n",
       "      <th>ipca15_acumulado_doze_meses</th>\n",
       "      <th>...</th>\n",
       "      <th>ipc_fipe_acumulado_ano</th>\n",
       "      <th>incc_variacao</th>\n",
       "      <th>incc_acumulado_ano</th>\n",
       "      <th>incc_m_variacao</th>\n",
       "      <th>incc_m_acumulado_ano</th>\n",
       "      <th>selic_meta</th>\n",
       "      <th>selic_ano</th>\n",
       "      <th>juros_reais</th>\n",
       "      <th>salario_minimo</th>\n",
       "      <th>consolidado_ano</th>\n",
       "    </tr>\n",
       "  </thead>\n",
       "  <tbody>\n",
       "    <tr>\n",
       "      <th>0</th>\n",
       "      <td>1980-01</td>\n",
       "      <td>1980</td>\n",
       "      <td>1</td>\n",
       "      <td>198001</td>\n",
       "      <td>6.62</td>\n",
       "      <td>6.62</td>\n",
       "      <td>0.0</td>\n",
       "      <td>0.0</td>\n",
       "      <td>0.0</td>\n",
       "      <td>0.0</td>\n",
       "      <td>...</td>\n",
       "      <td>4.48</td>\n",
       "      <td>4.70</td>\n",
       "      <td>4.70</td>\n",
       "      <td>0.0</td>\n",
       "      <td>0.0</td>\n",
       "      <td>0.0</td>\n",
       "      <td>0.0</td>\n",
       "      <td>0.0</td>\n",
       "      <td>2932.8</td>\n",
       "      <td>False</td>\n",
       "    </tr>\n",
       "    <tr>\n",
       "      <th>1</th>\n",
       "      <td>1980-02</td>\n",
       "      <td>1980</td>\n",
       "      <td>2</td>\n",
       "      <td>198002</td>\n",
       "      <td>4.62</td>\n",
       "      <td>11.54</td>\n",
       "      <td>0.0</td>\n",
       "      <td>0.0</td>\n",
       "      <td>0.0</td>\n",
       "      <td>0.0</td>\n",
       "      <td>...</td>\n",
       "      <td>7.83</td>\n",
       "      <td>9.53</td>\n",
       "      <td>14.23</td>\n",
       "      <td>0.0</td>\n",
       "      <td>0.0</td>\n",
       "      <td>0.0</td>\n",
       "      <td>0.0</td>\n",
       "      <td>0.0</td>\n",
       "      <td>2932.8</td>\n",
       "      <td>False</td>\n",
       "    </tr>\n",
       "    <tr>\n",
       "      <th>2</th>\n",
       "      <td>1980-03</td>\n",
       "      <td>1980</td>\n",
       "      <td>3</td>\n",
       "      <td>198003</td>\n",
       "      <td>6.04</td>\n",
       "      <td>18.27</td>\n",
       "      <td>0.0</td>\n",
       "      <td>0.0</td>\n",
       "      <td>0.0</td>\n",
       "      <td>0.0</td>\n",
       "      <td>...</td>\n",
       "      <td>12.17</td>\n",
       "      <td>12.80</td>\n",
       "      <td>27.03</td>\n",
       "      <td>0.0</td>\n",
       "      <td>0.0</td>\n",
       "      <td>0.0</td>\n",
       "      <td>0.0</td>\n",
       "      <td>0.0</td>\n",
       "      <td>2932.8</td>\n",
       "      <td>False</td>\n",
       "    </tr>\n",
       "    <tr>\n",
       "      <th>3</th>\n",
       "      <td>1980-04</td>\n",
       "      <td>1980</td>\n",
       "      <td>4</td>\n",
       "      <td>198004</td>\n",
       "      <td>5.29</td>\n",
       "      <td>24.53</td>\n",
       "      <td>0.0</td>\n",
       "      <td>0.0</td>\n",
       "      <td>0.0</td>\n",
       "      <td>0.0</td>\n",
       "      <td>...</td>\n",
       "      <td>16.10</td>\n",
       "      <td>3.13</td>\n",
       "      <td>30.16</td>\n",
       "      <td>0.0</td>\n",
       "      <td>0.0</td>\n",
       "      <td>0.0</td>\n",
       "      <td>0.0</td>\n",
       "      <td>0.0</td>\n",
       "      <td>2932.8</td>\n",
       "      <td>False</td>\n",
       "    </tr>\n",
       "    <tr>\n",
       "      <th>4</th>\n",
       "      <td>1980-05</td>\n",
       "      <td>1980</td>\n",
       "      <td>5</td>\n",
       "      <td>198005</td>\n",
       "      <td>5.70</td>\n",
       "      <td>31.63</td>\n",
       "      <td>0.0</td>\n",
       "      <td>0.0</td>\n",
       "      <td>0.0</td>\n",
       "      <td>0.0</td>\n",
       "      <td>...</td>\n",
       "      <td>22.62</td>\n",
       "      <td>4.86</td>\n",
       "      <td>35.02</td>\n",
       "      <td>0.0</td>\n",
       "      <td>0.0</td>\n",
       "      <td>0.0</td>\n",
       "      <td>0.0</td>\n",
       "      <td>0.0</td>\n",
       "      <td>4149.6</td>\n",
       "      <td>False</td>\n",
       "    </tr>\n",
       "  </tbody>\n",
       "</table>\n",
       "<p>5 rows × 26 columns</p>\n",
       "</div>"
      ],
      "text/plain": [
       "  referencia   ano  mes  ano_mes  ipca_variacao  ipca_acumulado_ano  \\\n",
       "0    1980-01  1980    1   198001           6.62                6.62   \n",
       "1    1980-02  1980    2   198002           4.62               11.54   \n",
       "2    1980-03  1980    3   198003           6.04               18.27   \n",
       "3    1980-04  1980    4   198004           5.29               24.53   \n",
       "4    1980-05  1980    5   198005           5.70               31.63   \n",
       "\n",
       "   ipca_acumulado_doze_meses  ipca15_variacao  ipca15_acumulado_ano  \\\n",
       "0                        0.0              0.0                   0.0   \n",
       "1                        0.0              0.0                   0.0   \n",
       "2                        0.0              0.0                   0.0   \n",
       "3                        0.0              0.0                   0.0   \n",
       "4                        0.0              0.0                   0.0   \n",
       "\n",
       "   ipca15_acumulado_doze_meses  ...  ipc_fipe_acumulado_ano  incc_variacao  \\\n",
       "0                          0.0  ...                    4.48           4.70   \n",
       "1                          0.0  ...                    7.83           9.53   \n",
       "2                          0.0  ...                   12.17          12.80   \n",
       "3                          0.0  ...                   16.10           3.13   \n",
       "4                          0.0  ...                   22.62           4.86   \n",
       "\n",
       "   incc_acumulado_ano  incc_m_variacao  incc_m_acumulado_ano  selic_meta  \\\n",
       "0                4.70              0.0                   0.0         0.0   \n",
       "1               14.23              0.0                   0.0         0.0   \n",
       "2               27.03              0.0                   0.0         0.0   \n",
       "3               30.16              0.0                   0.0         0.0   \n",
       "4               35.02              0.0                   0.0         0.0   \n",
       "\n",
       "   selic_ano  juros_reais  salario_minimo  consolidado_ano  \n",
       "0        0.0          0.0          2932.8            False  \n",
       "1        0.0          0.0          2932.8            False  \n",
       "2        0.0          0.0          2932.8            False  \n",
       "3        0.0          0.0          2932.8            False  \n",
       "4        0.0          0.0          4149.6            False  \n",
       "\n",
       "[5 rows x 26 columns]"
      ]
     },
     "execution_count": 3,
     "metadata": {},
     "output_type": "execute_result"
    }
   ],
   "source": [
    "df.head()"
   ]
  },
  {
   "attachments": {},
   "cell_type": "markdown",
   "id": "24595ea4",
   "metadata": {
    "papermill": {
     "duration": 0.019103,
     "end_time": "2023-06-16T20:31:58.900525",
     "exception": false,
     "start_time": "2023-06-16T20:31:58.881422",
     "status": "completed"
    },
    "tags": []
   },
   "source": [
    "### Prevendo o IPCA consolidado através da prévia do IPCA15"
   ]
  },
  {
   "cell_type": "code",
   "execution_count": 4,
   "id": "90b61047",
   "metadata": {
    "execution": {
     "iopub.execute_input": "2023-06-16T20:31:58.940432Z",
     "iopub.status.busy": "2023-06-16T20:31:58.939726Z",
     "iopub.status.idle": "2023-06-16T20:31:58.949136Z",
     "shell.execute_reply": "2023-06-16T20:31:58.947983Z"
    },
    "id": "XmS5bZ_3JjR8",
    "papermill": {
     "duration": 0.03257,
     "end_time": "2023-06-16T20:31:58.951919",
     "exception": false,
     "start_time": "2023-06-16T20:31:58.919349",
     "status": "completed"
    },
    "tags": []
   },
   "outputs": [
    {
     "name": "stdout",
     "output_type": "stream",
     "text": [
      "Colunas selecionadas com sucesso!\n"
     ]
    }
   ],
   "source": [
    "cols = ['referencia', 'ipca_variacao', 'ipca15_variacao']\n",
    "\n",
    "if all(col in df.columns for col in cols):\n",
    "    df_corr = df[cols]\n",
    "    print(\"Colunas selecionadas com sucesso!\")\n",
    "else:\n",
    "    missing_cols = [col for col in cols if col not in df.columns]\n",
    "    print(\"As seguintes colunas não estão presentes no DataFrame:\")\n",
    "    print(missing_cols)"
   ]
  },
  {
   "cell_type": "code",
   "execution_count": 5,
   "id": "e3a0fc90",
   "metadata": {
    "execution": {
     "iopub.execute_input": "2023-06-16T20:31:58.991923Z",
     "iopub.status.busy": "2023-06-16T20:31:58.991503Z",
     "iopub.status.idle": "2023-06-16T20:31:59.004970Z",
     "shell.execute_reply": "2023-06-16T20:31:59.003865Z"
    },
    "id": "HGwZQ4YWJ-oW",
    "outputId": "d5dd90c8-9985-4017-c708-bc66f84b4d0c",
    "papermill": {
     "duration": 0.036614,
     "end_time": "2023-06-16T20:31:59.007584",
     "exception": false,
     "start_time": "2023-06-16T20:31:58.970970",
     "status": "completed"
    },
    "tags": []
   },
   "outputs": [
    {
     "data": {
      "text/html": [
       "<div>\n",
       "<style scoped>\n",
       "    .dataframe tbody tr th:only-of-type {\n",
       "        vertical-align: middle;\n",
       "    }\n",
       "\n",
       "    .dataframe tbody tr th {\n",
       "        vertical-align: top;\n",
       "    }\n",
       "\n",
       "    .dataframe thead th {\n",
       "        text-align: right;\n",
       "    }\n",
       "</style>\n",
       "<table border=\"1\" class=\"dataframe\">\n",
       "  <thead>\n",
       "    <tr style=\"text-align: right;\">\n",
       "      <th></th>\n",
       "      <th>referencia</th>\n",
       "      <th>ipca_variacao</th>\n",
       "      <th>ipca15_variacao</th>\n",
       "    </tr>\n",
       "  </thead>\n",
       "  <tbody>\n",
       "    <tr>\n",
       "      <th>0</th>\n",
       "      <td>1980-01</td>\n",
       "      <td>6.62</td>\n",
       "      <td>0.0</td>\n",
       "    </tr>\n",
       "    <tr>\n",
       "      <th>1</th>\n",
       "      <td>1980-02</td>\n",
       "      <td>4.62</td>\n",
       "      <td>0.0</td>\n",
       "    </tr>\n",
       "    <tr>\n",
       "      <th>2</th>\n",
       "      <td>1980-03</td>\n",
       "      <td>6.04</td>\n",
       "      <td>0.0</td>\n",
       "    </tr>\n",
       "    <tr>\n",
       "      <th>3</th>\n",
       "      <td>1980-04</td>\n",
       "      <td>5.29</td>\n",
       "      <td>0.0</td>\n",
       "    </tr>\n",
       "    <tr>\n",
       "      <th>4</th>\n",
       "      <td>1980-05</td>\n",
       "      <td>5.70</td>\n",
       "      <td>0.0</td>\n",
       "    </tr>\n",
       "  </tbody>\n",
       "</table>\n",
       "</div>"
      ],
      "text/plain": [
       "  referencia  ipca_variacao  ipca15_variacao\n",
       "0    1980-01           6.62              0.0\n",
       "1    1980-02           4.62              0.0\n",
       "2    1980-03           6.04              0.0\n",
       "3    1980-04           5.29              0.0\n",
       "4    1980-05           5.70              0.0"
      ]
     },
     "execution_count": 5,
     "metadata": {},
     "output_type": "execute_result"
    }
   ],
   "source": [
    "df_corr.head()"
   ]
  },
  {
   "cell_type": "code",
   "execution_count": 6,
   "id": "507415d4",
   "metadata": {},
   "outputs": [
    {
     "data": {
      "text/plain": [
       "referencia          object\n",
       "ipca_variacao      float64\n",
       "ipca15_variacao    float64\n",
       "dtype: object"
      ]
     },
     "execution_count": 6,
     "metadata": {},
     "output_type": "execute_result"
    }
   ],
   "source": [
    "df_corr.dtypes"
   ]
  },
  {
   "cell_type": "code",
   "execution_count": 7,
   "id": "799f6b91",
   "metadata": {},
   "outputs": [
    {
     "name": "stderr",
     "output_type": "stream",
     "text": [
      "/tmp/ipykernel_17834/601951007.py:1: SettingWithCopyWarning: \n",
      "A value is trying to be set on a copy of a slice from a DataFrame.\n",
      "Try using .loc[row_indexer,col_indexer] = value instead\n",
      "\n",
      "See the caveats in the documentation: https://pandas.pydata.org/pandas-docs/stable/user_guide/indexing.html#returning-a-view-versus-a-copy\n",
      "  df_corr['referencia'] = pd.to_datetime(df_corr['referencia'])\n"
     ]
    }
   ],
   "source": [
    "df_corr['referencia'] = pd.to_datetime(df_corr['referencia'])"
   ]
  },
  {
   "cell_type": "code",
   "execution_count": 8,
   "id": "bc300221",
   "metadata": {
    "execution": {
     "iopub.execute_input": "2023-06-16T20:31:59.048798Z",
     "iopub.status.busy": "2023-06-16T20:31:59.048362Z",
     "iopub.status.idle": "2023-06-16T20:31:59.062615Z",
     "shell.execute_reply": "2023-06-16T20:31:59.061392Z"
    },
    "id": "MNvHLW0GKdwp",
    "outputId": "bf46319f-e535-482f-977a-601f101cd030",
    "papermill": {
     "duration": 0.037831,
     "end_time": "2023-06-16T20:31:59.065217",
     "exception": false,
     "start_time": "2023-06-16T20:31:59.027386",
     "status": "completed"
    },
    "tags": []
   },
   "outputs": [
    {
     "data": {
      "text/html": [
       "<div>\n",
       "<style scoped>\n",
       "    .dataframe tbody tr th:only-of-type {\n",
       "        vertical-align: middle;\n",
       "    }\n",
       "\n",
       "    .dataframe tbody tr th {\n",
       "        vertical-align: top;\n",
       "    }\n",
       "\n",
       "    .dataframe thead th {\n",
       "        text-align: right;\n",
       "    }\n",
       "</style>\n",
       "<table border=\"1\" class=\"dataframe\">\n",
       "  <thead>\n",
       "    <tr style=\"text-align: right;\">\n",
       "      <th></th>\n",
       "      <th>referencia</th>\n",
       "      <th>ipca_variacao</th>\n",
       "      <th>ipca15_variacao</th>\n",
       "    </tr>\n",
       "  </thead>\n",
       "  <tbody>\n",
       "    <tr>\n",
       "      <th>referencia</th>\n",
       "      <td>1.000000</td>\n",
       "      <td>-0.479516</td>\n",
       "      <td>0.534054</td>\n",
       "    </tr>\n",
       "    <tr>\n",
       "      <th>ipca_variacao</th>\n",
       "      <td>-0.479516</td>\n",
       "      <td>1.000000</td>\n",
       "      <td>-0.329657</td>\n",
       "    </tr>\n",
       "    <tr>\n",
       "      <th>ipca15_variacao</th>\n",
       "      <td>0.534054</td>\n",
       "      <td>-0.329657</td>\n",
       "      <td>1.000000</td>\n",
       "    </tr>\n",
       "  </tbody>\n",
       "</table>\n",
       "</div>"
      ],
      "text/plain": [
       "                 referencia  ipca_variacao  ipca15_variacao\n",
       "referencia         1.000000      -0.479516         0.534054\n",
       "ipca_variacao     -0.479516       1.000000        -0.329657\n",
       "ipca15_variacao    0.534054      -0.329657         1.000000"
      ]
     },
     "execution_count": 8,
     "metadata": {},
     "output_type": "execute_result"
    }
   ],
   "source": [
    "df_corr.corr()"
   ]
  },
  {
   "cell_type": "code",
   "execution_count": 9,
   "id": "3042cdb3",
   "metadata": {
    "execution": {
     "iopub.execute_input": "2023-06-16T20:31:59.106698Z",
     "iopub.status.busy": "2023-06-16T20:31:59.105883Z",
     "iopub.status.idle": "2023-06-16T20:31:59.123179Z",
     "shell.execute_reply": "2023-06-16T20:31:59.121926Z"
    },
    "id": "zgVI9HvQI1xP",
    "outputId": "d4d1eed7-12b7-4e09-9673-2c656a460b4a",
    "papermill": {
     "duration": 0.041133,
     "end_time": "2023-06-16T20:31:59.125952",
     "exception": false,
     "start_time": "2023-06-16T20:31:59.084819",
     "status": "completed"
    },
    "tags": []
   },
   "outputs": [],
   "source": [
    "numeric_cols = [col for col in cols if df_corr[col].dtype != object]\n",
    "df_corr.loc[:, numeric_cols] = df_corr.loc[:, numeric_cols].replace(0, np.nan)"
   ]
  },
  {
   "cell_type": "code",
   "execution_count": 10,
   "id": "233dca34",
   "metadata": {
    "execution": {
     "iopub.execute_input": "2023-06-16T20:31:59.167011Z",
     "iopub.status.busy": "2023-06-16T20:31:59.166607Z",
     "iopub.status.idle": "2023-06-16T20:31:59.183274Z",
     "shell.execute_reply": "2023-06-16T20:31:59.182102Z"
    },
    "id": "665PQOYoK4yu",
    "outputId": "ba049de2-4956-408f-b6e1-2a40fa5d4cc7",
    "papermill": {
     "duration": 0.040308,
     "end_time": "2023-06-16T20:31:59.185898",
     "exception": false,
     "start_time": "2023-06-16T20:31:59.145590",
     "status": "completed"
    },
    "tags": []
   },
   "outputs": [
    {
     "data": {
      "text/html": [
       "<div>\n",
       "<style scoped>\n",
       "    .dataframe tbody tr th:only-of-type {\n",
       "        vertical-align: middle;\n",
       "    }\n",
       "\n",
       "    .dataframe tbody tr th {\n",
       "        vertical-align: top;\n",
       "    }\n",
       "\n",
       "    .dataframe thead th {\n",
       "        text-align: right;\n",
       "    }\n",
       "</style>\n",
       "<table border=\"1\" class=\"dataframe\">\n",
       "  <thead>\n",
       "    <tr style=\"text-align: right;\">\n",
       "      <th></th>\n",
       "      <th>referencia</th>\n",
       "      <th>ipca_variacao</th>\n",
       "      <th>ipca15_variacao</th>\n",
       "    </tr>\n",
       "  </thead>\n",
       "  <tbody>\n",
       "    <tr>\n",
       "      <th>0</th>\n",
       "      <td>1980-01-01</td>\n",
       "      <td>6.62</td>\n",
       "      <td>NaN</td>\n",
       "    </tr>\n",
       "    <tr>\n",
       "      <th>1</th>\n",
       "      <td>1980-02-01</td>\n",
       "      <td>4.62</td>\n",
       "      <td>NaN</td>\n",
       "    </tr>\n",
       "    <tr>\n",
       "      <th>2</th>\n",
       "      <td>1980-03-01</td>\n",
       "      <td>6.04</td>\n",
       "      <td>NaN</td>\n",
       "    </tr>\n",
       "    <tr>\n",
       "      <th>3</th>\n",
       "      <td>1980-04-01</td>\n",
       "      <td>5.29</td>\n",
       "      <td>NaN</td>\n",
       "    </tr>\n",
       "    <tr>\n",
       "      <th>4</th>\n",
       "      <td>1980-05-01</td>\n",
       "      <td>5.70</td>\n",
       "      <td>NaN</td>\n",
       "    </tr>\n",
       "    <tr>\n",
       "      <th>...</th>\n",
       "      <td>...</td>\n",
       "      <td>...</td>\n",
       "      <td>...</td>\n",
       "    </tr>\n",
       "    <tr>\n",
       "      <th>516</th>\n",
       "      <td>2023-01-01</td>\n",
       "      <td>0.53</td>\n",
       "      <td>0.55</td>\n",
       "    </tr>\n",
       "    <tr>\n",
       "      <th>517</th>\n",
       "      <td>2023-02-01</td>\n",
       "      <td>0.84</td>\n",
       "      <td>0.76</td>\n",
       "    </tr>\n",
       "    <tr>\n",
       "      <th>518</th>\n",
       "      <td>2023-03-01</td>\n",
       "      <td>0.71</td>\n",
       "      <td>0.69</td>\n",
       "    </tr>\n",
       "    <tr>\n",
       "      <th>519</th>\n",
       "      <td>2023-04-01</td>\n",
       "      <td>0.61</td>\n",
       "      <td>0.57</td>\n",
       "    </tr>\n",
       "    <tr>\n",
       "      <th>520</th>\n",
       "      <td>2023-05-01</td>\n",
       "      <td>0.23</td>\n",
       "      <td>0.51</td>\n",
       "    </tr>\n",
       "  </tbody>\n",
       "</table>\n",
       "<p>521 rows × 3 columns</p>\n",
       "</div>"
      ],
      "text/plain": [
       "    referencia  ipca_variacao  ipca15_variacao\n",
       "0   1980-01-01           6.62              NaN\n",
       "1   1980-02-01           4.62              NaN\n",
       "2   1980-03-01           6.04              NaN\n",
       "3   1980-04-01           5.29              NaN\n",
       "4   1980-05-01           5.70              NaN\n",
       "..         ...            ...              ...\n",
       "516 2023-01-01           0.53             0.55\n",
       "517 2023-02-01           0.84             0.76\n",
       "518 2023-03-01           0.71             0.69\n",
       "519 2023-04-01           0.61             0.57\n",
       "520 2023-05-01           0.23             0.51\n",
       "\n",
       "[521 rows x 3 columns]"
      ]
     },
     "execution_count": 10,
     "metadata": {},
     "output_type": "execute_result"
    }
   ],
   "source": [
    "df_corr"
   ]
  },
  {
   "cell_type": "code",
   "execution_count": 11,
   "id": "7b57a4dc",
   "metadata": {
    "execution": {
     "iopub.execute_input": "2023-06-16T20:31:59.227647Z",
     "iopub.status.busy": "2023-06-16T20:31:59.226925Z",
     "iopub.status.idle": "2023-06-16T20:31:59.234824Z",
     "shell.execute_reply": "2023-06-16T20:31:59.233613Z"
    },
    "id": "zd9pVE_AK-vd",
    "papermill": {
     "duration": 0.031688,
     "end_time": "2023-06-16T20:31:59.237420",
     "exception": false,
     "start_time": "2023-06-16T20:31:59.205732",
     "status": "completed"
    },
    "tags": []
   },
   "outputs": [],
   "source": [
    "df_corr = df_corr.dropna()"
   ]
  },
  {
   "cell_type": "code",
   "execution_count": 12,
   "id": "eb9a0665",
   "metadata": {
    "execution": {
     "iopub.execute_input": "2023-06-16T20:31:59.278942Z",
     "iopub.status.busy": "2023-06-16T20:31:59.278539Z",
     "iopub.status.idle": "2023-06-16T20:31:59.286454Z",
     "shell.execute_reply": "2023-06-16T20:31:59.285179Z"
    },
    "id": "zX_BsaSLfBdC",
    "outputId": "8c28e77b-9651-44de-bd03-3a3538e39174",
    "papermill": {
     "duration": 0.031426,
     "end_time": "2023-06-16T20:31:59.288884",
     "exception": false,
     "start_time": "2023-06-16T20:31:59.257458",
     "status": "completed"
    },
    "tags": []
   },
   "outputs": [
    {
     "data": {
      "text/plain": [
       "(276, 3)"
      ]
     },
     "execution_count": 12,
     "metadata": {},
     "output_type": "execute_result"
    }
   ],
   "source": [
    "df_corr.shape"
   ]
  },
  {
   "cell_type": "code",
   "execution_count": 13,
   "id": "6e663b3e",
   "metadata": {
    "execution": {
     "iopub.execute_input": "2023-06-16T20:31:59.330918Z",
     "iopub.status.busy": "2023-06-16T20:31:59.330492Z",
     "iopub.status.idle": "2023-06-16T20:31:59.343785Z",
     "shell.execute_reply": "2023-06-16T20:31:59.342556Z"
    },
    "id": "UrAWihDqL1rK",
    "outputId": "aaf79237-2c1c-4c6b-b52d-f96616f9be50",
    "papermill": {
     "duration": 0.037372,
     "end_time": "2023-06-16T20:31:59.346348",
     "exception": false,
     "start_time": "2023-06-16T20:31:59.308976",
     "status": "completed"
    },
    "tags": []
   },
   "outputs": [
    {
     "data": {
      "text/html": [
       "<div>\n",
       "<style scoped>\n",
       "    .dataframe tbody tr th:only-of-type {\n",
       "        vertical-align: middle;\n",
       "    }\n",
       "\n",
       "    .dataframe tbody tr th {\n",
       "        vertical-align: top;\n",
       "    }\n",
       "\n",
       "    .dataframe thead th {\n",
       "        text-align: right;\n",
       "    }\n",
       "</style>\n",
       "<table border=\"1\" class=\"dataframe\">\n",
       "  <thead>\n",
       "    <tr style=\"text-align: right;\">\n",
       "      <th></th>\n",
       "      <th>referencia</th>\n",
       "      <th>ipca_variacao</th>\n",
       "      <th>ipca15_variacao</th>\n",
       "    </tr>\n",
       "  </thead>\n",
       "  <tbody>\n",
       "    <tr>\n",
       "      <th>244</th>\n",
       "      <td>2000-05-01</td>\n",
       "      <td>0.01</td>\n",
       "      <td>0.09</td>\n",
       "    </tr>\n",
       "    <tr>\n",
       "      <th>245</th>\n",
       "      <td>2000-06-01</td>\n",
       "      <td>0.23</td>\n",
       "      <td>0.08</td>\n",
       "    </tr>\n",
       "    <tr>\n",
       "      <th>246</th>\n",
       "      <td>2000-07-01</td>\n",
       "      <td>1.61</td>\n",
       "      <td>0.78</td>\n",
       "    </tr>\n",
       "    <tr>\n",
       "      <th>247</th>\n",
       "      <td>2000-08-01</td>\n",
       "      <td>1.31</td>\n",
       "      <td>1.99</td>\n",
       "    </tr>\n",
       "    <tr>\n",
       "      <th>248</th>\n",
       "      <td>2000-09-01</td>\n",
       "      <td>0.23</td>\n",
       "      <td>0.45</td>\n",
       "    </tr>\n",
       "  </tbody>\n",
       "</table>\n",
       "</div>"
      ],
      "text/plain": [
       "    referencia  ipca_variacao  ipca15_variacao\n",
       "244 2000-05-01           0.01             0.09\n",
       "245 2000-06-01           0.23             0.08\n",
       "246 2000-07-01           1.61             0.78\n",
       "247 2000-08-01           1.31             1.99\n",
       "248 2000-09-01           0.23             0.45"
      ]
     },
     "execution_count": 13,
     "metadata": {},
     "output_type": "execute_result"
    }
   ],
   "source": [
    "df_corr.head()"
   ]
  },
  {
   "cell_type": "code",
   "execution_count": 14,
   "id": "cc5bb24c",
   "metadata": {
    "execution": {
     "iopub.execute_input": "2023-06-16T20:31:59.388588Z",
     "iopub.status.busy": "2023-06-16T20:31:59.388167Z",
     "iopub.status.idle": "2023-06-16T20:31:59.402045Z",
     "shell.execute_reply": "2023-06-16T20:31:59.400942Z"
    },
    "id": "RZbED5g2Mvvo",
    "outputId": "281b2e47-09f9-4944-dda7-1a5334a7d124",
    "papermill": {
     "duration": 0.037991,
     "end_time": "2023-06-16T20:31:59.404507",
     "exception": false,
     "start_time": "2023-06-16T20:31:59.366516",
     "status": "completed"
    },
    "tags": []
   },
   "outputs": [
    {
     "data": {
      "text/html": [
       "<div>\n",
       "<style scoped>\n",
       "    .dataframe tbody tr th:only-of-type {\n",
       "        vertical-align: middle;\n",
       "    }\n",
       "\n",
       "    .dataframe tbody tr th {\n",
       "        vertical-align: top;\n",
       "    }\n",
       "\n",
       "    .dataframe thead th {\n",
       "        text-align: right;\n",
       "    }\n",
       "</style>\n",
       "<table border=\"1\" class=\"dataframe\">\n",
       "  <thead>\n",
       "    <tr style=\"text-align: right;\">\n",
       "      <th></th>\n",
       "      <th>referencia</th>\n",
       "      <th>ipca_variacao</th>\n",
       "      <th>ipca15_variacao</th>\n",
       "    </tr>\n",
       "  </thead>\n",
       "  <tbody>\n",
       "    <tr>\n",
       "      <th>516</th>\n",
       "      <td>2023-01-01</td>\n",
       "      <td>0.53</td>\n",
       "      <td>0.55</td>\n",
       "    </tr>\n",
       "    <tr>\n",
       "      <th>517</th>\n",
       "      <td>2023-02-01</td>\n",
       "      <td>0.84</td>\n",
       "      <td>0.76</td>\n",
       "    </tr>\n",
       "    <tr>\n",
       "      <th>518</th>\n",
       "      <td>2023-03-01</td>\n",
       "      <td>0.71</td>\n",
       "      <td>0.69</td>\n",
       "    </tr>\n",
       "    <tr>\n",
       "      <th>519</th>\n",
       "      <td>2023-04-01</td>\n",
       "      <td>0.61</td>\n",
       "      <td>0.57</td>\n",
       "    </tr>\n",
       "    <tr>\n",
       "      <th>520</th>\n",
       "      <td>2023-05-01</td>\n",
       "      <td>0.23</td>\n",
       "      <td>0.51</td>\n",
       "    </tr>\n",
       "  </tbody>\n",
       "</table>\n",
       "</div>"
      ],
      "text/plain": [
       "    referencia  ipca_variacao  ipca15_variacao\n",
       "516 2023-01-01           0.53             0.55\n",
       "517 2023-02-01           0.84             0.76\n",
       "518 2023-03-01           0.71             0.69\n",
       "519 2023-04-01           0.61             0.57\n",
       "520 2023-05-01           0.23             0.51"
      ]
     },
     "execution_count": 14,
     "metadata": {},
     "output_type": "execute_result"
    }
   ],
   "source": [
    "df_corr.tail()"
   ]
  },
  {
   "cell_type": "code",
   "execution_count": 15,
   "id": "636163ef",
   "metadata": {
    "execution": {
     "iopub.execute_input": "2023-06-16T20:31:59.447769Z",
     "iopub.status.busy": "2023-06-16T20:31:59.447347Z",
     "iopub.status.idle": "2023-06-16T20:31:59.459425Z",
     "shell.execute_reply": "2023-06-16T20:31:59.458247Z"
    },
    "id": "M1wTKXd6L3Vs",
    "outputId": "6ec85494-c5c8-4871-fb27-46d65a99c364",
    "papermill": {
     "duration": 0.036988,
     "end_time": "2023-06-16T20:31:59.462177",
     "exception": false,
     "start_time": "2023-06-16T20:31:59.425189",
     "status": "completed"
    },
    "tags": []
   },
   "outputs": [
    {
     "data": {
      "text/html": [
       "<div>\n",
       "<style scoped>\n",
       "    .dataframe tbody tr th:only-of-type {\n",
       "        vertical-align: middle;\n",
       "    }\n",
       "\n",
       "    .dataframe tbody tr th {\n",
       "        vertical-align: top;\n",
       "    }\n",
       "\n",
       "    .dataframe thead th {\n",
       "        text-align: right;\n",
       "    }\n",
       "</style>\n",
       "<table border=\"1\" class=\"dataframe\">\n",
       "  <thead>\n",
       "    <tr style=\"text-align: right;\">\n",
       "      <th></th>\n",
       "      <th>referencia</th>\n",
       "      <th>ipca_variacao</th>\n",
       "      <th>ipca15_variacao</th>\n",
       "    </tr>\n",
       "  </thead>\n",
       "  <tbody>\n",
       "    <tr>\n",
       "      <th>referencia</th>\n",
       "      <td>1.000000</td>\n",
       "      <td>-0.119015</td>\n",
       "      <td>-0.111535</td>\n",
       "    </tr>\n",
       "    <tr>\n",
       "      <th>ipca_variacao</th>\n",
       "      <td>-0.119015</td>\n",
       "      <td>1.000000</td>\n",
       "      <td>0.854815</td>\n",
       "    </tr>\n",
       "    <tr>\n",
       "      <th>ipca15_variacao</th>\n",
       "      <td>-0.111535</td>\n",
       "      <td>0.854815</td>\n",
       "      <td>1.000000</td>\n",
       "    </tr>\n",
       "  </tbody>\n",
       "</table>\n",
       "</div>"
      ],
      "text/plain": [
       "                 referencia  ipca_variacao  ipca15_variacao\n",
       "referencia         1.000000      -0.119015        -0.111535\n",
       "ipca_variacao     -0.119015       1.000000         0.854815\n",
       "ipca15_variacao   -0.111535       0.854815         1.000000"
      ]
     },
     "execution_count": 15,
     "metadata": {},
     "output_type": "execute_result"
    }
   ],
   "source": [
    "df_corr.corr()"
   ]
  },
  {
   "cell_type": "markdown",
   "id": "bb0fac24",
   "metadata": {
    "id": "AjL-lpGlNOZv",
    "papermill": {
     "duration": 0.020217,
     "end_time": "2023-06-16T20:31:59.503271",
     "exception": false,
     "start_time": "2023-06-16T20:31:59.483054",
     "status": "completed"
    },
    "tags": []
   },
   "source": []
  },
  {
   "cell_type": "code",
   "execution_count": 16,
   "id": "96d7b316",
   "metadata": {
    "execution": {
     "iopub.execute_input": "2023-06-16T20:31:59.546207Z",
     "iopub.status.busy": "2023-06-16T20:31:59.545746Z",
     "iopub.status.idle": "2023-06-16T20:31:59.554917Z",
     "shell.execute_reply": "2023-06-16T20:31:59.553714Z"
    },
    "id": "FIJVRw-Ay8zP",
    "outputId": "d7b4b042-c28b-4d31-a428-f8ed7cf945c0",
    "papermill": {
     "duration": 0.034236,
     "end_time": "2023-06-16T20:31:59.558013",
     "exception": false,
     "start_time": "2023-06-16T20:31:59.523777",
     "status": "completed"
    },
    "tags": []
   },
   "outputs": [
    {
     "data": {
      "text/plain": [
       "PearsonRResult(statistic=0.8548148693807875, pvalue=4.906022360633788e-80)"
      ]
     },
     "execution_count": 16,
     "metadata": {},
     "output_type": "execute_result"
    }
   ],
   "source": [
    "stats.pearsonr(\n",
    "    df_corr['ipca_variacao'], \n",
    "    df_corr['ipca15_variacao'], \n",
    ")"
   ]
  },
  {
   "cell_type": "markdown",
   "id": "e9e4a3ca",
   "metadata": {
    "papermill": {
     "duration": 0.02037,
     "end_time": "2023-06-16T20:31:59.599064",
     "exception": false,
     "start_time": "2023-06-16T20:31:59.578694",
     "status": "completed"
    },
    "tags": []
   },
   "source": [
    "* 0.85% de correlação é considerada alta "
   ]
  },
  {
   "cell_type": "code",
   "execution_count": 17,
   "id": "a6d73fff",
   "metadata": {
    "execution": {
     "iopub.execute_input": "2023-06-16T20:31:59.642350Z",
     "iopub.status.busy": "2023-06-16T20:31:59.641916Z",
     "iopub.status.idle": "2023-06-16T20:32:00.015001Z",
     "shell.execute_reply": "2023-06-16T20:32:00.013658Z"
    },
    "id": "DmcvBv7_MCTE",
    "outputId": "02e50d4b-bb6b-40c1-9b0f-fbf851f0eeaf",
    "papermill": {
     "duration": 0.398407,
     "end_time": "2023-06-16T20:32:00.018023",
     "exception": false,
     "start_time": "2023-06-16T20:31:59.619616",
     "status": "completed"
    },
    "tags": []
   },
   "outputs": [
    {
     "data": {
      "image/png": "[encoded data removed]",
      "text/plain": [
       "<Figure size 1600x800 with 1 Axes>"
      ]
     },
     "metadata": {},
     "output_type": "display_data"
    }
   ],
   "source": [
    "plt.figure(figsize = (16,8))\n",
    "plt.scatter(\n",
    "    df_corr['ipca_variacao'], \n",
    "    df_corr['ipca15_variacao'], \n",
    "    c='red')\n",
    "plt.xlabel(\" Variação do IPCA \")\n",
    "plt.ylabel(\" Variação do IPCA15 \")\n",
    "plt.show()"
   ]
  },
  {
   "cell_type": "markdown",
   "id": "f8062f65",
   "metadata": {
    "id": "tt8CpWncb9cU",
    "papermill": {
     "duration": 0.020879,
     "end_time": "2023-06-16T20:32:00.061053",
     "exception": false,
     "start_time": "2023-06-16T20:32:00.040174",
     "status": "completed"
    },
    "tags": []
   },
   "source": [
    "#### Encontrando a Malhor Reta para a progressão"
   ]
  },
  {
   "cell_type": "code",
   "execution_count": 18,
   "id": "11db22b2",
   "metadata": {
    "execution": {
     "iopub.execute_input": "2023-06-16T20:32:00.106244Z",
     "iopub.status.busy": "2023-06-16T20:32:00.104918Z",
     "iopub.status.idle": "2023-06-16T20:32:00.110145Z",
     "shell.execute_reply": "2023-06-16T20:32:00.109184Z"
    },
    "id": "6jvhpNfeywoZ",
    "papermill": {
     "duration": 0.030228,
     "end_time": "2023-06-16T20:32:00.112610",
     "exception": false,
     "start_time": "2023-06-16T20:32:00.082382",
     "status": "completed"
    },
    "tags": []
   },
   "outputs": [],
   "source": [
    "reg = LinearRegression()"
   ]
  },
  {
   "cell_type": "markdown",
   "id": "810464f2",
   "metadata": {
    "id": "BYXsVXVJcJW2",
    "papermill": {
     "duration": 0.02094,
     "end_time": "2023-06-16T20:32:00.154982",
     "exception": false,
     "start_time": "2023-06-16T20:32:00.134042",
     "status": "completed"
    },
    "tags": []
   },
   "source": [
    "#### Transformando os Series do Pandas em Arrays para fazer o fit dos dados. "
   ]
  },
  {
   "cell_type": "code",
   "execution_count": 19,
   "id": "bb36e9a2",
   "metadata": {
    "execution": {
     "iopub.execute_input": "2023-06-16T20:32:00.200638Z",
     "iopub.status.busy": "2023-06-16T20:32:00.199386Z",
     "iopub.status.idle": "2023-06-16T20:32:00.214129Z",
     "shell.execute_reply": "2023-06-16T20:32:00.212968Z"
    },
    "id": "daog2acbcL4F",
    "outputId": "6c2b324d-14b1-490d-c3ce-9a9a4b1313bc",
    "papermill": {
     "duration": 0.040165,
     "end_time": "2023-06-16T20:32:00.216682",
     "exception": false,
     "start_time": "2023-06-16T20:32:00.176517",
     "status": "completed"
    },
    "tags": []
   },
   "outputs": [
    {
     "data": {
      "text/html": [
       "<style>#sk-container-id-1 {color: black;}#sk-container-id-1 pre{padding: 0;}#sk-container-id-1 div.sk-toggleable {background-color: white;}#sk-container-id-1 label.sk-toggleable__label {cursor: pointer;display: block;width: 100%;margin-bottom: 0;padding: 0.3em;box-sizing: border-box;text-align: center;}#sk-container-id-1 label.sk-toggleable__label-arrow:before {content: \"▸\";float: left;margin-right: 0.25em;color: #696969;}#sk-container-id-1 label.sk-toggleable__label-arrow:hover:before {color: black;}#sk-container-id-1 div.sk-estimator:hover label.sk-toggleable__label-arrow:before {color: black;}#sk-container-id-1 div.sk-toggleable__content {max-height: 0;max-width: 0;overflow: hidden;text-align: left;background-color: #f0f8ff;}#sk-container-id-1 div.sk-toggleable__content pre {margin: 0.2em;color: black;border-radius: 0.25em;background-color: #f0f8ff;}#sk-container-id-1 input.sk-toggleable__control:checked~div.sk-toggleable__content {max-height: 200px;max-width: 100%;overflow: auto;}#sk-container-id-1 input.sk-toggleable__control:checked~label.sk-toggleable__label-arrow:before {content: \"▾\";}#sk-container-id-1 div.sk-estimator input.sk-toggleable__control:checked~label.sk-toggleable__label {background-color: #d4ebff;}#sk-container-id-1 div.sk-label input.sk-toggleable__control:checked~label.sk-toggleable__label {background-color: #d4ebff;}#sk-container-id-1 input.sk-hidden--visually {border: 0;clip: rect(1px 1px 1px 1px);clip: rect(1px, 1px, 1px, 1px);height: 1px;margin: -1px;overflow: hidden;padding: 0;position: absolute;width: 1px;}#sk-container-id-1 div.sk-estimator {font-family: monospace;background-color: #f0f8ff;border: 1px dotted black;border-radius: 0.25em;box-sizing: border-box;margin-bottom: 0.5em;}#sk-container-id-1 div.sk-estimator:hover {background-color: #d4ebff;}#sk-container-id-1 div.sk-parallel-item::after {content: \"\";width: 100%;border-bottom: 1px solid gray;flex-grow: 1;}#sk-container-id-1 div.sk-label:hover label.sk-toggleable__label {background-color: #d4ebff;}#sk-container-id-1 div.sk-serial::before {content: \"\";position: absolute;border-left: 1px solid gray;box-sizing: border-box;top: 0;bottom: 0;left: 50%;z-index: 0;}#sk-container-id-1 div.sk-serial {display: flex;flex-direction: column;align-items: center;background-color: white;padding-right: 0.2em;padding-left: 0.2em;position: relative;}#sk-container-id-1 div.sk-item {position: relative;z-index: 1;}#sk-container-id-1 div.sk-parallel {display: flex;align-items: stretch;justify-content: center;background-color: white;position: relative;}#sk-container-id-1 div.sk-item::before, #sk-container-id-1 div.sk-parallel-item::before {content: \"\";position: absolute;border-left: 1px solid gray;box-sizing: border-box;top: 0;bottom: 0;left: 50%;z-index: -1;}#sk-container-id-1 div.sk-parallel-item {display: flex;flex-direction: column;z-index: 1;position: relative;background-color: white;}#sk-container-id-1 div.sk-parallel-item:first-child::after {align-self: flex-end;width: 50%;}#sk-container-id-1 div.sk-parallel-item:last-child::after {align-self: flex-start;width: 50%;}#sk-container-id-1 div.sk-parallel-item:only-child::after {width: 0;}#sk-container-id-1 div.sk-dashed-wrapped {border: 1px dashed gray;margin: 0 0.4em 0.5em 0.4em;box-sizing: border-box;padding-bottom: 0.4em;background-color: white;}#sk-container-id-1 div.sk-label label {font-family: monospace;font-weight: bold;display: inline-block;line-height: 1.2em;}#sk-container-id-1 div.sk-label-container {text-align: center;}#sk-container-id-1 div.sk-container {/* jupyter's `normalize.less` sets `[hidden] { display: none; }` but bootstrap.min.css set `[hidden] { display: none !important; }` so we also need the `!important` here to be able to override the default hidden behavior on the sphinx rendered scikit-learn.org. See: https://github.com/scikit-learn/scikit-learn/issues/21755 */display: inline-block !important;position: relative;}#sk-container-id-1 div.sk-text-repr-fallback {display: none;}</style><div id=\"sk-container-id-1\" class=\"sk-top-container\"><div class=\"sk-text-repr-fallback\"><pre>LinearRegression()</pre><b>In a Jupyter environment, please rerun this cell to show the HTML representation or trust the notebook. <br />On GitHub, the HTML representation is unable to render, please try loading this page with nbviewer.org.</b></div><div class=\"sk-container\" hidden><div class=\"sk-item\"><div class=\"sk-estimator sk-toggleable\"><input class=\"sk-toggleable__control sk-hidden--visually\" id=\"sk-estimator-id-1\" type=\"checkbox\" checked><label for=\"sk-estimator-id-1\" class=\"sk-toggleable__label sk-toggleable__label-arrow\">LinearRegression</label><div class=\"sk-toggleable__content\"><pre>LinearRegression()</pre></div></div></div></div></div>"
      ],
      "text/plain": [
       "LinearRegression()"
      ]
     },
     "execution_count": 19,
     "metadata": {},
     "output_type": "execute_result"
    }
   ],
   "source": [
    "reg.fit(\n",
    "    df_corr['ipca15_variacao'].values.reshape(-1, 1), \n",
    "    df_corr['ipca_variacao'].values.reshape(-1, 1)\n",
    ")"
   ]
  },
  {
   "cell_type": "code",
   "execution_count": 20,
   "id": "1381a649",
   "metadata": {
    "execution": {
     "iopub.execute_input": "2023-06-16T20:32:00.262379Z",
     "iopub.status.busy": "2023-06-16T20:32:00.261112Z",
     "iopub.status.idle": "2023-06-16T20:32:00.268546Z",
     "shell.execute_reply": "2023-06-16T20:32:00.267682Z"
    },
    "id": "X7oyq7zfciWf",
    "outputId": "d42d103d-381a-45c7-93fa-160a0355a56a",
    "papermill": {
     "duration": 0.032616,
     "end_time": "2023-06-16T20:32:00.270796",
     "exception": false,
     "start_time": "2023-06-16T20:32:00.238180",
     "status": "completed"
    },
    "tags": []
   },
   "outputs": [
    {
     "data": {
      "text/plain": [
       "array([[0.84728291]])"
      ]
     },
     "execution_count": 20,
     "metadata": {},
     "output_type": "execute_result"
    }
   ],
   "source": [
    "reg.coef_"
   ]
  },
  {
   "cell_type": "markdown",
   "id": "d831abc4",
   "metadata": {
    "id": "I8wuhvIPc3ij",
    "papermill": {
     "duration": 0.021727,
     "end_time": "2023-06-16T20:32:00.314255",
     "exception": false,
     "start_time": "2023-06-16T20:32:00.292528",
     "status": "completed"
    },
    "tags": []
   },
   "source": [
    "#### Melhor possibilidade de onde a reta vai cortar o eixo. "
   ]
  },
  {
   "cell_type": "code",
   "execution_count": 21,
   "id": "c7f6d1a5",
   "metadata": {
    "execution": {
     "iopub.execute_input": "2023-06-16T20:32:00.360115Z",
     "iopub.status.busy": "2023-06-16T20:32:00.358878Z",
     "iopub.status.idle": "2023-06-16T20:32:00.366808Z",
     "shell.execute_reply": "2023-06-16T20:32:00.365575Z"
    },
    "id": "Y2x_oW9nctWI",
    "outputId": "3487430d-1e48-4d1e-b913-bce869a579bb",
    "papermill": {
     "duration": 0.033436,
     "end_time": "2023-06-16T20:32:00.369381",
     "exception": false,
     "start_time": "2023-06-16T20:32:00.335945",
     "status": "completed"
    },
    "tags": []
   },
   "outputs": [
    {
     "data": {
      "text/plain": [
       "array([0.07973822])"
      ]
     },
     "execution_count": 21,
     "metadata": {},
     "output_type": "execute_result"
    }
   ],
   "source": [
    "reg.intercept_"
   ]
  },
  {
   "cell_type": "markdown",
   "id": "73f7f56b",
   "metadata": {
    "id": "XjGpJ1Otc69h",
    "papermill": {
     "duration": 0.021718,
     "end_time": "2023-06-16T20:32:00.413121",
     "exception": false,
     "start_time": "2023-06-16T20:32:00.391403",
     "status": "completed"
    },
    "tags": []
   },
   "source": [
    "#### Testando o coeficiente de interceptação para traçar o gráfico linearmente"
   ]
  },
  {
   "cell_type": "code",
   "execution_count": 22,
   "id": "76cffe66",
   "metadata": {
    "execution": {
     "iopub.execute_input": "2023-06-16T20:32:00.460719Z",
     "iopub.status.busy": "2023-06-16T20:32:00.459523Z",
     "iopub.status.idle": "2023-06-16T20:32:00.796380Z",
     "shell.execute_reply": "2023-06-16T20:32:00.795146Z"
    },
    "id": "hvJiAcSSc5Cc",
    "outputId": "410bc084-5032-4ffa-d997-e9ff99ae89ad",
    "papermill": {
     "duration": 0.363609,
     "end_time": "2023-06-16T20:32:00.799335",
     "exception": false,
     "start_time": "2023-06-16T20:32:00.435726",
     "status": "completed"
    },
    "tags": []
   },
   "outputs": [
    {
     "data": {
      "image/png": "[encoded data removed]",
      "text/plain": [
       "<Figure size 1600x800 with 1 Axes>"
      ]
     },
     "metadata": {},
     "output_type": "display_data"
    }
   ],
   "source": [
    "plt.figure(figsize = (16,8))\n",
    "plt.scatter(df_corr['ipca15_variacao'], df_corr['ipca_variacao'], c=\"red\")\n",
    "x = np.array(df_corr['ipca15_variacao'])\n",
    "y = reg.intercept_ + x * reg.coef_\n",
    "plt.plot(x, y[0], \"b\")\n",
    "plt.show()"
   ]
  },
  {
   "cell_type": "code",
   "execution_count": 23,
   "id": "01ffa574",
   "metadata": {
    "execution": {
     "iopub.execute_input": "2023-06-16T20:32:00.847603Z",
     "iopub.status.busy": "2023-06-16T20:32:00.847117Z",
     "iopub.status.idle": "2023-06-16T20:32:00.870140Z",
     "shell.execute_reply": "2023-06-16T20:32:00.868199Z"
    },
    "id": "02MUexhVdIDO",
    "outputId": "7f518b66-6c6b-4c83-f787-860fc3099b47",
    "papermill": {
     "duration": 0.050438,
     "end_time": "2023-06-16T20:32:00.873199",
     "exception": false,
     "start_time": "2023-06-16T20:32:00.822761",
     "status": "completed"
    },
    "tags": []
   },
   "outputs": [
    {
     "name": "stdout",
     "output_type": "stream",
     "text": [
      "                            OLS Regression Results                            \n",
      "==============================================================================\n",
      "Dep. Variable:        ipca15_variacao   R-squared:                       0.731\n",
      "Model:                            OLS   Adj. R-squared:                  0.730\n",
      "Method:                 Least Squares   F-statistic:                     743.5\n",
      "Date:                Wed, 12 Jul 2023   Prob (F-statistic):           4.91e-80\n",
      "Time:                        21:55:52   Log-Likelihood:                 38.200\n",
      "No. Observations:                 276   AIC:                            -72.40\n",
      "Df Residuals:                     274   BIC:                            -65.16\n",
      "Df Model:                           1                                         \n",
      "Covariance Type:            nonrobust                                         \n",
      "=================================================================================\n",
      "                    coef    std err          t      P>|t|      [0.025      0.975]\n",
      "---------------------------------------------------------------------------------\n",
      "const             0.0701      0.021      3.385      0.001       0.029       0.111\n",
      "ipca_variacao     0.8624      0.032     27.267      0.000       0.800       0.925\n",
      "==============================================================================\n",
      "Omnibus:                       73.805   Durbin-Watson:                   2.509\n",
      "Prob(Omnibus):                  0.000   Jarque-Bera (JB):              330.927\n",
      "Skew:                           1.016   Prob(JB):                     1.38e-72\n",
      "Kurtosis:                       7.964   Cond. No.                         3.24\n",
      "==============================================================================\n",
      "\n",
      "Notes:\n",
      "[1] Standard Errors assume that the covariance matrix of the errors is correctly specified.\n"
     ]
    }
   ],
   "source": [
    "X = df_corr['ipca_variacao']\n",
    "y = df_corr['ipca15_variacao']\n",
    "X2 = sm.add_constant(X)\n",
    "est = sm.OLS(y, X2)\n",
    "est2 = est.fit()\n",
    "print(est2.summary())"
   ]
  },
  {
   "attachments": {},
   "cell_type": "markdown",
   "id": "25be2ea9",
   "metadata": {
    "id": "-w0JqSCldgEj",
    "papermill": {
     "duration": 0.023433,
     "end_time": "2023-06-16T20:32:00.920141",
     "exception": false,
     "start_time": "2023-06-16T20:32:00.896708",
     "status": "completed"
    },
    "tags": []
   },
   "source": [
    "#### Resultado do Modelo\n",
    "O R2 é de 0.727.\n",
    "Isso significa que 73% do comportamento da variável `ipca_variacao` é explicado pela variável `ipca15_variacao`.\n",
    "Nosso p-valor é de 0.001. Isso significa que `não` podemos aceitar a hipótese nula. Se o mesmo estivesse alto, aceitariamos a hipótese nula e chegariamos a conclusão de que os dados  são bons o suficiente para gerar um modelo bom."
   ]
  },
  {
   "cell_type": "markdown",
   "id": "3d6f1f44",
   "metadata": {
    "id": "yFS4RVwkd5ad",
    "papermill": {
     "duration": 0.023487,
     "end_time": "2023-06-16T20:32:00.967369",
     "exception": false,
     "start_time": "2023-06-16T20:32:00.943882",
     "status": "completed"
    },
    "tags": []
   },
   "source": [
    "# Treinando e ajustando o modelo de regressão"
   ]
  },
  {
   "cell_type": "markdown",
   "id": "da619e89",
   "metadata": {
    "id": "ZamF9plnd-gd",
    "papermill": {
     "duration": 0.022643,
     "end_time": "2023-06-16T20:32:01.013119",
     "exception": false,
     "start_time": "2023-06-16T20:32:00.990476",
     "status": "completed"
    },
    "tags": []
   },
   "source": [
    "## Criando dataset de treino x teste"
   ]
  },
  {
   "cell_type": "code",
   "execution_count": 24,
   "id": "dcd4afd7",
   "metadata": {
    "execution": {
     "iopub.execute_input": "2023-06-16T20:32:01.061360Z",
     "iopub.status.busy": "2023-06-16T20:32:01.060909Z",
     "iopub.status.idle": "2023-06-16T20:32:01.066955Z",
     "shell.execute_reply": "2023-06-16T20:32:01.065606Z"
    },
    "id": "YNKh0CUHdYeC",
    "papermill": {
     "duration": 0.033284,
     "end_time": "2023-06-16T20:32:01.069649",
     "exception": false,
     "start_time": "2023-06-16T20:32:01.036365",
     "status": "completed"
    },
    "tags": []
   },
   "outputs": [],
   "source": [
    "X = df_corr['ipca15_variacao'].values.reshape(-1, 1)"
   ]
  },
  {
   "cell_type": "code",
   "execution_count": 25,
   "id": "1dece8b0",
   "metadata": {
    "execution": {
     "iopub.execute_input": "2023-06-16T20:32:01.117898Z",
     "iopub.status.busy": "2023-06-16T20:32:01.117473Z",
     "iopub.status.idle": "2023-06-16T20:32:01.123271Z",
     "shell.execute_reply": "2023-06-16T20:32:01.122035Z"
    },
    "id": "51k9W4u9d2Kw",
    "papermill": {
     "duration": 0.03359,
     "end_time": "2023-06-16T20:32:01.126153",
     "exception": false,
     "start_time": "2023-06-16T20:32:01.092563",
     "status": "completed"
    },
    "tags": []
   },
   "outputs": [],
   "source": [
    "y = df_corr['ipca_variacao'].values.reshape(-1, 1)"
   ]
  },
  {
   "cell_type": "code",
   "execution_count": 26,
   "id": "fb081ac9",
   "metadata": {
    "execution": {
     "iopub.execute_input": "2023-06-16T20:32:01.174019Z",
     "iopub.status.busy": "2023-06-16T20:32:01.173570Z",
     "iopub.status.idle": "2023-06-16T20:32:01.180280Z",
     "shell.execute_reply": "2023-06-16T20:32:01.178980Z"
    },
    "id": "cUEOCfPweCPH",
    "papermill": {
     "duration": 0.033687,
     "end_time": "2023-06-16T20:32:01.182855",
     "exception": false,
     "start_time": "2023-06-16T20:32:01.149168",
     "status": "completed"
    },
    "tags": []
   },
   "outputs": [],
   "source": [
    "X_train, X_test, y_train, y_test = train_test_split(X, y, test_size = 0.15, random_state = 0, shuffle=False)"
   ]
  },
  {
   "cell_type": "code",
   "execution_count": 27,
   "id": "0733ca6c",
   "metadata": {
    "execution": {
     "iopub.execute_input": "2023-06-16T20:32:01.230874Z",
     "iopub.status.busy": "2023-06-16T20:32:01.230461Z",
     "iopub.status.idle": "2023-06-16T20:32:01.237212Z",
     "shell.execute_reply": "2023-06-16T20:32:01.235998Z"
    },
    "id": "ryx93XnoeDOO",
    "outputId": "77970684-c54b-4116-fa66-718c29a07344",
    "papermill": {
     "duration": 0.033817,
     "end_time": "2023-06-16T20:32:01.239825",
     "exception": false,
     "start_time": "2023-06-16T20:32:01.206008",
     "status": "completed"
    },
    "tags": []
   },
   "outputs": [
    {
     "data": {
      "text/plain": [
       "(234, 1)"
      ]
     },
     "execution_count": 27,
     "metadata": {},
     "output_type": "execute_result"
    }
   ],
   "source": [
    "X_train.shape"
   ]
  },
  {
   "cell_type": "code",
   "execution_count": 28,
   "id": "f271a40e",
   "metadata": {
    "execution": {
     "iopub.execute_input": "2023-06-16T20:32:01.289112Z",
     "iopub.status.busy": "2023-06-16T20:32:01.288298Z",
     "iopub.status.idle": "2023-06-16T20:32:01.295891Z",
     "shell.execute_reply": "2023-06-16T20:32:01.294811Z"
    },
    "id": "pPYib7dseEI4",
    "outputId": "b7321f60-5ecd-4439-f599-3fcf75f37453",
    "papermill": {
     "duration": 0.035016,
     "end_time": "2023-06-16T20:32:01.298392",
     "exception": false,
     "start_time": "2023-06-16T20:32:01.263376",
     "status": "completed"
    },
    "tags": []
   },
   "outputs": [
    {
     "data": {
      "text/plain": [
       "(42, 1)"
      ]
     },
     "execution_count": 28,
     "metadata": {},
     "output_type": "execute_result"
    }
   ],
   "source": [
    "X_test.shape"
   ]
  },
  {
   "cell_type": "markdown",
   "id": "9c23f776",
   "metadata": {
    "id": "OAHy_ijOePaA",
    "papermill": {
     "duration": 0.023072,
     "end_time": "2023-06-16T20:32:01.344833",
     "exception": false,
     "start_time": "2023-06-16T20:32:01.321761",
     "status": "completed"
    },
    "tags": []
   },
   "source": [
    "## Treinando o modelo de regressão"
   ]
  },
  {
   "cell_type": "code",
   "execution_count": 29,
   "id": "c0c6a34b",
   "metadata": {
    "execution": {
     "iopub.execute_input": "2023-06-16T20:32:01.393272Z",
     "iopub.status.busy": "2023-06-16T20:32:01.392789Z",
     "iopub.status.idle": "2023-06-16T20:32:01.398668Z",
     "shell.execute_reply": "2023-06-16T20:32:01.397204Z"
    },
    "id": "-3zVoIOXeFeL",
    "papermill": {
     "duration": 0.033307,
     "end_time": "2023-06-16T20:32:01.401420",
     "exception": false,
     "start_time": "2023-06-16T20:32:01.368113",
     "status": "completed"
    },
    "tags": []
   },
   "outputs": [],
   "source": [
    "regressor = LinearRegression()"
   ]
  },
  {
   "cell_type": "code",
   "execution_count": 30,
   "id": "9b22ef4e",
   "metadata": {
    "execution": {
     "iopub.execute_input": "2023-06-16T20:32:01.450107Z",
     "iopub.status.busy": "2023-06-16T20:32:01.449650Z",
     "iopub.status.idle": "2023-06-16T20:32:01.459571Z",
     "shell.execute_reply": "2023-06-16T20:32:01.458184Z"
    },
    "id": "zpcKo3VteQqd",
    "outputId": "6265dd16-c9a8-4149-d851-09d722e36f85",
    "papermill": {
     "duration": 0.037449,
     "end_time": "2023-06-16T20:32:01.462319",
     "exception": false,
     "start_time": "2023-06-16T20:32:01.424870",
     "status": "completed"
    },
    "tags": []
   },
   "outputs": [
    {
     "data": {
      "text/html": [
       "<style>#sk-container-id-2 {color: black;}#sk-container-id-2 pre{padding: 0;}#sk-container-id-2 div.sk-toggleable {background-color: white;}#sk-container-id-2 label.sk-toggleable__label {cursor: pointer;display: block;width: 100%;margin-bottom: 0;padding: 0.3em;box-sizing: border-box;text-align: center;}#sk-container-id-2 label.sk-toggleable__label-arrow:before {content: \"▸\";float: left;margin-right: 0.25em;color: #696969;}#sk-container-id-2 label.sk-toggleable__label-arrow:hover:before {color: black;}#sk-container-id-2 div.sk-estimator:hover label.sk-toggleable__label-arrow:before {color: black;}#sk-container-id-2 div.sk-toggleable__content {max-height: 0;max-width: 0;overflow: hidden;text-align: left;background-color: #f0f8ff;}#sk-container-id-2 div.sk-toggleable__content pre {margin: 0.2em;color: black;border-radius: 0.25em;background-color: #f0f8ff;}#sk-container-id-2 input.sk-toggleable__control:checked~div.sk-toggleable__content {max-height: 200px;max-width: 100%;overflow: auto;}#sk-container-id-2 input.sk-toggleable__control:checked~label.sk-toggleable__label-arrow:before {content: \"▾\";}#sk-container-id-2 div.sk-estimator input.sk-toggleable__control:checked~label.sk-toggleable__label {background-color: #d4ebff;}#sk-container-id-2 div.sk-label input.sk-toggleable__control:checked~label.sk-toggleable__label {background-color: #d4ebff;}#sk-container-id-2 input.sk-hidden--visually {border: 0;clip: rect(1px 1px 1px 1px);clip: rect(1px, 1px, 1px, 1px);height: 1px;margin: -1px;overflow: hidden;padding: 0;position: absolute;width: 1px;}#sk-container-id-2 div.sk-estimator {font-family: monospace;background-color: #f0f8ff;border: 1px dotted black;border-radius: 0.25em;box-sizing: border-box;margin-bottom: 0.5em;}#sk-container-id-2 div.sk-estimator:hover {background-color: #d4ebff;}#sk-container-id-2 div.sk-parallel-item::after {content: \"\";width: 100%;border-bottom: 1px solid gray;flex-grow: 1;}#sk-container-id-2 div.sk-label:hover label.sk-toggleable__label {background-color: #d4ebff;}#sk-container-id-2 div.sk-serial::before {content: \"\";position: absolute;border-left: 1px solid gray;box-sizing: border-box;top: 0;bottom: 0;left: 50%;z-index: 0;}#sk-container-id-2 div.sk-serial {display: flex;flex-direction: column;align-items: center;background-color: white;padding-right: 0.2em;padding-left: 0.2em;position: relative;}#sk-container-id-2 div.sk-item {position: relative;z-index: 1;}#sk-container-id-2 div.sk-parallel {display: flex;align-items: stretch;justify-content: center;background-color: white;position: relative;}#sk-container-id-2 div.sk-item::before, #sk-container-id-2 div.sk-parallel-item::before {content: \"\";position: absolute;border-left: 1px solid gray;box-sizing: border-box;top: 0;bottom: 0;left: 50%;z-index: -1;}#sk-container-id-2 div.sk-parallel-item {display: flex;flex-direction: column;z-index: 1;position: relative;background-color: white;}#sk-container-id-2 div.sk-parallel-item:first-child::after {align-self: flex-end;width: 50%;}#sk-container-id-2 div.sk-parallel-item:last-child::after {align-self: flex-start;width: 50%;}#sk-container-id-2 div.sk-parallel-item:only-child::after {width: 0;}#sk-container-id-2 div.sk-dashed-wrapped {border: 1px dashed gray;margin: 0 0.4em 0.5em 0.4em;box-sizing: border-box;padding-bottom: 0.4em;background-color: white;}#sk-container-id-2 div.sk-label label {font-family: monospace;font-weight: bold;display: inline-block;line-height: 1.2em;}#sk-container-id-2 div.sk-label-container {text-align: center;}#sk-container-id-2 div.sk-container {/* jupyter's `normalize.less` sets `[hidden] { display: none; }` but bootstrap.min.css set `[hidden] { display: none !important; }` so we also need the `!important` here to be able to override the default hidden behavior on the sphinx rendered scikit-learn.org. See: https://github.com/scikit-learn/scikit-learn/issues/21755 */display: inline-block !important;position: relative;}#sk-container-id-2 div.sk-text-repr-fallback {display: none;}</style><div id=\"sk-container-id-2\" class=\"sk-top-container\"><div class=\"sk-text-repr-fallback\"><pre>LinearRegression()</pre><b>In a Jupyter environment, please rerun this cell to show the HTML representation or trust the notebook. <br />On GitHub, the HTML representation is unable to render, please try loading this page with nbviewer.org.</b></div><div class=\"sk-container\" hidden><div class=\"sk-item\"><div class=\"sk-estimator sk-toggleable\"><input class=\"sk-toggleable__control sk-hidden--visually\" id=\"sk-estimator-id-2\" type=\"checkbox\" checked><label for=\"sk-estimator-id-2\" class=\"sk-toggleable__label sk-toggleable__label-arrow\">LinearRegression</label><div class=\"sk-toggleable__content\"><pre>LinearRegression()</pre></div></div></div></div></div>"
      ],
      "text/plain": [
       "LinearRegression()"
      ]
     },
     "execution_count": 30,
     "metadata": {},
     "output_type": "execute_result"
    }
   ],
   "source": [
    "regressor.fit(X_train, y_train)"
   ]
  },
  {
   "cell_type": "code",
   "execution_count": 31,
   "id": "6953598d",
   "metadata": {
    "execution": {
     "iopub.execute_input": "2023-06-16T20:32:01.511795Z",
     "iopub.status.busy": "2023-06-16T20:32:01.511363Z",
     "iopub.status.idle": "2023-06-16T20:32:01.517881Z",
     "shell.execute_reply": "2023-06-16T20:32:01.516975Z"
    },
    "id": "8fj1ZhzkeRhq",
    "outputId": "7662e1ed-1acf-4f29-b9f9-3cb03033abe2",
    "papermill": {
     "duration": 0.034538,
     "end_time": "2023-06-16T20:32:01.520418",
     "exception": false,
     "start_time": "2023-06-16T20:32:01.485880",
     "status": "completed"
    },
    "tags": []
   },
   "outputs": [
    {
     "data": {
      "text/plain": [
       "array([0.08030396])"
      ]
     },
     "execution_count": 31,
     "metadata": {},
     "output_type": "execute_result"
    }
   ],
   "source": [
    "regressor.intercept_"
   ]
  },
  {
   "cell_type": "code",
   "execution_count": 32,
   "id": "ba8f87ba",
   "metadata": {
    "execution": {
     "iopub.execute_input": "2023-06-16T20:32:01.569539Z",
     "iopub.status.busy": "2023-06-16T20:32:01.569024Z",
     "iopub.status.idle": "2023-06-16T20:32:01.576266Z",
     "shell.execute_reply": "2023-06-16T20:32:01.575290Z"
    },
    "id": "vvZq0dxueSY1",
    "outputId": "38643c97-d77d-4df0-e8e2-04e9da7bbee7",
    "papermill": {
     "duration": 0.034653,
     "end_time": "2023-06-16T20:32:01.578691",
     "exception": false,
     "start_time": "2023-06-16T20:32:01.544038",
     "status": "completed"
    },
    "tags": []
   },
   "outputs": [
    {
     "data": {
      "text/plain": [
       "array([[0.84532517]])"
      ]
     },
     "execution_count": 32,
     "metadata": {},
     "output_type": "execute_result"
    }
   ],
   "source": [
    "regressor.coef_"
   ]
  },
  {
   "cell_type": "markdown",
   "id": "e22ccbd6",
   "metadata": {
    "id": "Xlhj3mpReWE7",
    "papermill": {
     "duration": 0.023387,
     "end_time": "2023-06-16T20:32:01.625918",
     "exception": false,
     "start_time": "2023-06-16T20:32:01.602531",
     "status": "completed"
    },
    "tags": []
   },
   "source": [
    "## Teste do Modelo"
   ]
  },
  {
   "cell_type": "code",
   "execution_count": 33,
   "id": "bcec1c6e",
   "metadata": {
    "execution": {
     "iopub.execute_input": "2023-06-16T20:32:01.675456Z",
     "iopub.status.busy": "2023-06-16T20:32:01.674982Z",
     "iopub.status.idle": "2023-06-16T20:32:01.680586Z",
     "shell.execute_reply": "2023-06-16T20:32:01.679329Z"
    },
    "id": "w70AyI1meTQE",
    "papermill": {
     "duration": 0.033836,
     "end_time": "2023-06-16T20:32:01.683319",
     "exception": false,
     "start_time": "2023-06-16T20:32:01.649483",
     "status": "completed"
    },
    "tags": []
   },
   "outputs": [],
   "source": [
    "y_pred = regressor.predict(X_test)"
   ]
  },
  {
   "cell_type": "code",
   "execution_count": 34,
   "id": "1ad75e76",
   "metadata": {
    "execution": {
     "iopub.execute_input": "2023-06-16T20:32:01.732966Z",
     "iopub.status.busy": "2023-06-16T20:32:01.732551Z",
     "iopub.status.idle": "2023-06-16T20:32:01.738343Z",
     "shell.execute_reply": "2023-06-16T20:32:01.737162Z"
    },
    "id": "toxUaICCeXK4",
    "papermill": {
     "duration": 0.033669,
     "end_time": "2023-06-16T20:32:01.740845",
     "exception": false,
     "start_time": "2023-06-16T20:32:01.707176",
     "status": "completed"
    },
    "tags": []
   },
   "outputs": [],
   "source": [
    "df_preds = pd.DataFrame({'Valor Real': y_test.squeeze(), 'Predicted': y_pred.squeeze()})"
   ]
  },
  {
   "cell_type": "code",
   "execution_count": 35,
   "id": "7fa05db7",
   "metadata": {
    "execution": {
     "iopub.execute_input": "2023-06-16T20:32:01.793297Z",
     "iopub.status.busy": "2023-06-16T20:32:01.792866Z",
     "iopub.status.idle": "2023-06-16T20:32:01.807387Z",
     "shell.execute_reply": "2023-06-16T20:32:01.806350Z"
    },
    "id": "-cK2FEx9eYKI",
    "outputId": "bc5aa1c1-69ef-4a02-9549-9a543b5bde86",
    "papermill": {
     "duration": 0.045052,
     "end_time": "2023-06-16T20:32:01.809757",
     "exception": false,
     "start_time": "2023-06-16T20:32:01.764705",
     "status": "completed"
    },
    "scrolled": true,
    "tags": []
   },
   "outputs": [
    {
     "data": {
      "text/html": [
       "<div>\n",
       "<style scoped>\n",
       "    .dataframe tbody tr th:only-of-type {\n",
       "        vertical-align: middle;\n",
       "    }\n",
       "\n",
       "    .dataframe tbody tr th {\n",
       "        vertical-align: top;\n",
       "    }\n",
       "\n",
       "    .dataframe thead th {\n",
       "        text-align: right;\n",
       "    }\n",
       "</style>\n",
       "<table border=\"1\" class=\"dataframe\">\n",
       "  <thead>\n",
       "    <tr style=\"text-align: right;\">\n",
       "      <th></th>\n",
       "      <th>Valor Real</th>\n",
       "      <th>Predicted</th>\n",
       "    </tr>\n",
       "  </thead>\n",
       "  <tbody>\n",
       "    <tr>\n",
       "      <th>0</th>\n",
       "      <td>1.15</td>\n",
       "      <td>0.967895</td>\n",
       "    </tr>\n",
       "    <tr>\n",
       "      <th>1</th>\n",
       "      <td>0.21</td>\n",
       "      <td>0.680485</td>\n",
       "    </tr>\n",
       "    <tr>\n",
       "      <th>2</th>\n",
       "      <td>0.25</td>\n",
       "      <td>0.266275</td>\n",
       "    </tr>\n",
       "    <tr>\n",
       "      <th>3</th>\n",
       "      <td>0.07</td>\n",
       "      <td>0.097210</td>\n",
       "    </tr>\n",
       "    <tr>\n",
       "      <th>4</th>\n",
       "      <td>-0.31</td>\n",
       "      <td>0.071851</td>\n",
       "    </tr>\n",
       "    <tr>\n",
       "      <th>5</th>\n",
       "      <td>-0.38</td>\n",
       "      <td>-0.418438</td>\n",
       "    </tr>\n",
       "    <tr>\n",
       "      <th>6</th>\n",
       "      <td>0.26</td>\n",
       "      <td>0.097210</td>\n",
       "    </tr>\n",
       "    <tr>\n",
       "      <th>7</th>\n",
       "      <td>0.36</td>\n",
       "      <td>0.333902</td>\n",
       "    </tr>\n",
       "    <tr>\n",
       "      <th>8</th>\n",
       "      <td>0.24</td>\n",
       "      <td>0.274729</td>\n",
       "    </tr>\n",
       "    <tr>\n",
       "      <th>9</th>\n",
       "      <td>0.64</td>\n",
       "      <td>0.460700</td>\n",
       "    </tr>\n",
       "    <tr>\n",
       "      <th>10</th>\n",
       "      <td>0.86</td>\n",
       "      <td>0.874910</td>\n",
       "    </tr>\n",
       "    <tr>\n",
       "      <th>11</th>\n",
       "      <td>0.89</td>\n",
       "      <td>0.765017</td>\n",
       "    </tr>\n",
       "    <tr>\n",
       "      <th>12</th>\n",
       "      <td>1.35</td>\n",
       "      <td>0.976349</td>\n",
       "    </tr>\n",
       "    <tr>\n",
       "      <th>13</th>\n",
       "      <td>0.25</td>\n",
       "      <td>0.739658</td>\n",
       "    </tr>\n",
       "    <tr>\n",
       "      <th>14</th>\n",
       "      <td>0.86</td>\n",
       "      <td>0.486060</td>\n",
       "    </tr>\n",
       "    <tr>\n",
       "      <th>15</th>\n",
       "      <td>0.93</td>\n",
       "      <td>0.866456</td>\n",
       "    </tr>\n",
       "    <tr>\n",
       "      <th>16</th>\n",
       "      <td>0.31</td>\n",
       "      <td>0.587499</td>\n",
       "    </tr>\n",
       "    <tr>\n",
       "      <th>17</th>\n",
       "      <td>0.83</td>\n",
       "      <td>0.452247</td>\n",
       "    </tr>\n",
       "    <tr>\n",
       "      <th>18</th>\n",
       "      <td>0.53</td>\n",
       "      <td>0.781924</td>\n",
       "    </tr>\n",
       "    <tr>\n",
       "      <th>19</th>\n",
       "      <td>0.96</td>\n",
       "      <td>0.688938</td>\n",
       "    </tr>\n",
       "  </tbody>\n",
       "</table>\n",
       "</div>"
      ],
      "text/plain": [
       "    Valor Real  Predicted\n",
       "0         1.15   0.967895\n",
       "1         0.21   0.680485\n",
       "2         0.25   0.266275\n",
       "3         0.07   0.097210\n",
       "4        -0.31   0.071851\n",
       "5        -0.38  -0.418438\n",
       "6         0.26   0.097210\n",
       "7         0.36   0.333902\n",
       "8         0.24   0.274729\n",
       "9         0.64   0.460700\n",
       "10        0.86   0.874910\n",
       "11        0.89   0.765017\n",
       "12        1.35   0.976349\n",
       "13        0.25   0.739658\n",
       "14        0.86   0.486060\n",
       "15        0.93   0.866456\n",
       "16        0.31   0.587499\n",
       "17        0.83   0.452247\n",
       "18        0.53   0.781924\n",
       "19        0.96   0.688938"
      ]
     },
     "execution_count": 35,
     "metadata": {},
     "output_type": "execute_result"
    }
   ],
   "source": [
    "df_preds.head(20)"
   ]
  },
  {
   "cell_type": "markdown",
   "id": "d50396b7",
   "metadata": {
    "id": "z7_4XKroeijV",
    "papermill": {
     "duration": 0.023454,
     "end_time": "2023-06-16T20:32:01.857069",
     "exception": false,
     "start_time": "2023-06-16T20:32:01.833615",
     "status": "completed"
    },
    "tags": []
   },
   "source": [
    "##### MAE - Mean Absolute Error \n",
    "\n",
    "**Erro Absoluto Médio (MAE)**: Subtraímos os valores previstos dos valores reais, obtendo os erros, somamos os valores absolutos desses erros e obtemos sua média. Essa métrica dá uma noção do erro geral para cada previsão do modelo, quanto menor (mais próximo de 0) melhor.\n",
    "\n",
    "##### MSE - Mean Squared Error\n",
    "**Erro Quadrático Médio (MSE)** É semelhante à métrica MAE, mas eleva ao quadrado os valores absolutos dos erros. Além disso, como no MAE, quanto menor ou mais próximo de 0, melhor. O valor MSE é elevado ao quadrado para tornar os erros ainda maiores. Uma coisa a ter bastante atenção é que costuma ser uma métrica difícil de interpretar devido ao tamanho de seus valores e ao fato de não estarem na mesma escala dos dados.\n",
    "\n",
    "##### RMSE - Root Mean Squared Error\n",
    "**Raiz quadrada do erro-médio (RMSE)** : Tenta resolver o problema de interpretação levantado com o MSE obtendo a raiz quadrada de seu valor final, de modo a escalá-lo de volta para as mesmas unidades dos dados. É mais fácil de interpretar e bom quando precisamos exibir ou mostrar o valor real dos dados com o erro. Ele mostra o quanto os dados podem variar, portanto, se tivermos um RMSE de 4,35, nosso modelo pode cometer um erro porque adicionou 4,35 ao valor real ou precisou de 4,35 para chegar ao valor real. Quanto mais próximo de 0, melhor também.\n"
   ]
  },
  {
   "cell_type": "code",
   "execution_count": 36,
   "id": "a291cf1a",
   "metadata": {
    "execution": {
     "iopub.execute_input": "2023-06-16T20:32:01.906475Z",
     "iopub.status.busy": "2023-06-16T20:32:01.906048Z",
     "iopub.status.idle": "2023-06-16T20:32:01.913359Z",
     "shell.execute_reply": "2023-06-16T20:32:01.912140Z"
    },
    "papermill": {
     "duration": 0.034998,
     "end_time": "2023-06-16T20:32:01.915730",
     "exception": false,
     "start_time": "2023-06-16T20:32:01.880732",
     "status": "completed"
    },
    "tags": []
   },
   "outputs": [],
   "source": [
    "Referencia_train, Referencia_test, ipca_train, ipca_test = train_test_split(df_corr['referencia'], df_corr['ipca_variacao'], test_size = 0.15, shuffle=False, random_state = 0)"
   ]
  },
  {
   "cell_type": "code",
   "execution_count": 37,
   "id": "f21f587b",
   "metadata": {
    "execution": {
     "iopub.execute_input": "2023-06-16T20:32:01.966181Z",
     "iopub.status.busy": "2023-06-16T20:32:01.965732Z",
     "iopub.status.idle": "2023-06-16T20:32:01.975671Z",
     "shell.execute_reply": "2023-06-16T20:32:01.974334Z"
    },
    "papermill": {
     "duration": 0.038689,
     "end_time": "2023-06-16T20:32:01.978301",
     "exception": false,
     "start_time": "2023-06-16T20:32:01.939612",
     "status": "completed"
    },
    "tags": []
   },
   "outputs": [
    {
     "data": {
      "text/plain": [
       "244   2000-05-01\n",
       "245   2000-06-01\n",
       "246   2000-07-01\n",
       "247   2000-08-01\n",
       "248   2000-09-01\n",
       "         ...    \n",
       "516   2023-01-01\n",
       "517   2023-02-01\n",
       "518   2023-03-01\n",
       "519   2023-04-01\n",
       "520   2023-05-01\n",
       "Name: referencia, Length: 276, dtype: datetime64[ns]"
      ]
     },
     "execution_count": 37,
     "metadata": {},
     "output_type": "execute_result"
    }
   ],
   "source": [
    "df_corr['referencia']"
   ]
  },
  {
   "cell_type": "code",
   "execution_count": 38,
   "id": "6d48b55e",
   "metadata": {
    "execution": {
     "iopub.execute_input": "2023-06-16T20:32:02.028224Z",
     "iopub.status.busy": "2023-06-16T20:32:02.027781Z",
     "iopub.status.idle": "2023-06-16T20:32:02.037549Z",
     "shell.execute_reply": "2023-06-16T20:32:02.036339Z"
    },
    "papermill": {
     "duration": 0.037834,
     "end_time": "2023-06-16T20:32:02.040139",
     "exception": false,
     "start_time": "2023-06-16T20:32:02.002305",
     "status": "completed"
    },
    "tags": []
   },
   "outputs": [
    {
     "data": {
      "text/plain": [
       "479   2019-12-01\n",
       "480   2020-01-01\n",
       "481   2020-02-01\n",
       "482   2020-03-01\n",
       "483   2020-04-01\n",
       "484   2020-05-01\n",
       "485   2020-06-01\n",
       "486   2020-07-01\n",
       "487   2020-08-01\n",
       "488   2020-09-01\n",
       "489   2020-10-01\n",
       "490   2020-11-01\n",
       "491   2020-12-01\n",
       "492   2021-01-01\n",
       "493   2021-02-01\n",
       "494   2021-03-01\n",
       "495   2021-04-01\n",
       "496   2021-05-01\n",
       "497   2021-06-01\n",
       "498   2021-07-01\n",
       "499   2021-08-01\n",
       "500   2021-09-01\n",
       "501   2021-10-01\n",
       "502   2021-11-01\n",
       "503   2021-12-01\n",
       "504   2022-01-01\n",
       "505   2022-02-01\n",
       "506   2022-03-01\n",
       "507   2022-04-01\n",
       "508   2022-05-01\n",
       "509   2022-06-01\n",
       "510   2022-07-01\n",
       "511   2022-08-01\n",
       "512   2022-09-01\n",
       "513   2022-10-01\n",
       "514   2022-11-01\n",
       "515   2022-12-01\n",
       "516   2023-01-01\n",
       "517   2023-02-01\n",
       "518   2023-03-01\n",
       "519   2023-04-01\n",
       "520   2023-05-01\n",
       "Name: referencia, dtype: datetime64[ns]"
      ]
     },
     "execution_count": 38,
     "metadata": {},
     "output_type": "execute_result"
    }
   ],
   "source": [
    "Referencia_test"
   ]
  },
  {
   "cell_type": "code",
   "execution_count": 39,
   "id": "ae1bb6f8",
   "metadata": {
    "execution": {
     "iopub.execute_input": "2023-06-16T20:32:02.090833Z",
     "iopub.status.busy": "2023-06-16T20:32:02.090400Z",
     "iopub.status.idle": "2023-06-16T20:32:05.533135Z",
     "shell.execute_reply": "2023-06-16T20:32:05.532303Z"
    },
    "papermill": {
     "duration": 3.472728,
     "end_time": "2023-06-16T20:32:05.537320",
     "exception": false,
     "start_time": "2023-06-16T20:32:02.064592",
     "status": "completed"
    },
    "tags": []
   },
   "outputs": [
    {
     "data": {
      "image/png": "[encoded data removed]",
      "text/plain": [
       "<Figure size 1200x600 with 1 Axes>"
      ]
     },
     "metadata": {},
     "output_type": "display_data"
    }
   ],
   "source": [
    "plt.figure(figsize=(12, 6))  # Ajuste o tamanho da figura de acordo com suas preferências\n",
    "\n",
    "# Plota os dados de treinamento\n",
    "plt.plot(Referencia_train, ipca_train, label=\"IPCA - Treino\", color='black')\n",
    "\n",
    "# Plota os dados de teste\n",
    "plt.plot(Referencia_test, ipca_test, label=\"IPCA - Teste\", color='red')\n",
    "\n",
    "# Plota as previsões do modelo\n",
    "plt.plot(Referencia_test, y_pred.squeeze(), label=\"IPCA - Predição\", color='blue')\n",
    "\n",
    "plt.xlabel(\"Período de Referência\")\n",
    "plt.ylabel(\"Variação do IPCA\")\n",
    "plt.xticks(rotation=45)  # Rotaciona os rótulos do eixo x para melhor legibilidade\n",
    "\n",
    "plt.title(\"Modelo de Previsão Inflacionária - IPCA pelo IPCA15\")\n",
    "plt.legend()\n",
    "\n",
    "plt.tight_layout()  # Melhora o espaçamento entre os elementos do gráfico\n",
    "plt.show()\n"
   ]
  },
  {
   "cell_type": "code",
   "execution_count": 40,
   "id": "453d6d65",
   "metadata": {
    "execution": {
     "iopub.execute_input": "2023-06-16T20:32:05.593957Z",
     "iopub.status.busy": "2023-06-16T20:32:05.593533Z",
     "iopub.status.idle": "2023-06-16T20:32:05.600580Z",
     "shell.execute_reply": "2023-06-16T20:32:05.599417Z"
    },
    "id": "k7sSFEg2eZgq",
    "papermill": {
     "duration": 0.038119,
     "end_time": "2023-06-16T20:32:05.603040",
     "exception": false,
     "start_time": "2023-06-16T20:32:05.564921",
     "status": "completed"
    },
    "tags": []
   },
   "outputs": [],
   "source": [
    "mae = mean_absolute_error(y_test, y_pred)\n",
    "mse = mean_squared_error(y_test, y_pred)\n",
    "rmse = np.sqrt(mse)"
   ]
  },
  {
   "cell_type": "code",
   "execution_count": 41,
   "id": "7bd9039c",
   "metadata": {
    "execution": {
     "iopub.execute_input": "2023-06-16T20:32:05.659999Z",
     "iopub.status.busy": "2023-06-16T20:32:05.659066Z",
     "iopub.status.idle": "2023-06-16T20:32:05.665586Z",
     "shell.execute_reply": "2023-06-16T20:32:05.664260Z"
    },
    "id": "IJCVofSRelNe",
    "outputId": "8a8202d5-2510-44f6-ec5e-0883338d7993",
    "papermill": {
     "duration": 0.037614,
     "end_time": "2023-06-16T20:32:05.668083",
     "exception": false,
     "start_time": "2023-06-16T20:32:05.630469",
     "status": "completed"
    },
    "scrolled": true,
    "tags": []
   },
   "outputs": [
    {
     "name": "stdout",
     "output_type": "stream",
     "text": [
      "Mean absolute error: 0.20\n",
      "Mean squared error: 0.08\n",
      "Root mean squared error: 0.28\n"
     ]
    }
   ],
   "source": [
    "print(f'Mean absolute error: {mae:.2f}')\n",
    "print(f'Mean squared error: {mse:.2f}')\n",
    "print(f'Root mean squared error: {rmse:.2f}')"
   ]
  },
  {
   "cell_type": "markdown",
   "id": "b740ac73",
   "metadata": {
    "id": "Sb4hB9c7epn4",
    "papermill": {
     "duration": 0.026415,
     "end_time": "2023-06-16T20:32:05.721457",
     "exception": false,
     "start_time": "2023-06-16T20:32:05.695042",
     "status": "completed"
    },
    "tags": []
   },
   "source": [
    "### Perguntando ao Modelo\n",
    "\n",
    "> Quanto será o IPCA do mês onde o IPCA15 for de 0.76%?"
   ]
  },
  {
   "cell_type": "code",
   "execution_count": 42,
   "id": "ee37e75d",
   "metadata": {
    "execution": {
     "iopub.execute_input": "2023-06-16T20:32:05.777045Z",
     "iopub.status.busy": "2023-06-16T20:32:05.776605Z",
     "iopub.status.idle": "2023-06-16T20:32:05.782358Z",
     "shell.execute_reply": "2023-06-16T20:32:05.781381Z"
    },
    "id": "h33wXG7YemcN",
    "outputId": "b56cf419-475d-4c22-fe67-160586e3a917",
    "papermill": {
     "duration": 0.036266,
     "end_time": "2023-06-16T20:32:05.784593",
     "exception": false,
     "start_time": "2023-06-16T20:32:05.748327",
     "status": "completed"
    },
    "tags": []
   },
   "outputs": [],
   "source": [
    "previsao_ipca = regressor.predict([[0.76]])"
   ]
  },
  {
   "cell_type": "code",
   "execution_count": 43,
   "id": "68a2cf25",
   "metadata": {
    "execution": {
     "iopub.execute_input": "2023-06-16T20:32:05.841561Z",
     "iopub.status.busy": "2023-06-16T20:32:05.841135Z",
     "iopub.status.idle": "2023-06-16T20:32:05.848047Z",
     "shell.execute_reply": "2023-06-16T20:32:05.847235Z"
    },
    "papermill": {
     "duration": 0.037404,
     "end_time": "2023-06-16T20:32:05.850328",
     "exception": false,
     "start_time": "2023-06-16T20:32:05.812924",
     "status": "completed"
    },
    "tags": []
   },
   "outputs": [
    {
     "data": {
      "text/plain": [
       "0.72"
      ]
     },
     "execution_count": 43,
     "metadata": {},
     "output_type": "execute_result"
    }
   ],
   "source": [
    "float(\"{:.2f} \".format(previsao_ipca[0][0]))"
   ]
  },
  {
   "cell_type": "code",
   "execution_count": 44,
   "id": "fec43b48",
   "metadata": {
    "execution": {
     "iopub.execute_input": "2023-06-16T20:32:05.906563Z",
     "iopub.status.busy": "2023-06-16T20:32:05.906111Z",
     "iopub.status.idle": "2023-06-16T20:32:05.912309Z",
     "shell.execute_reply": "2023-06-16T20:32:05.911064Z"
    },
    "papermill": {
     "duration": 0.037127,
     "end_time": "2023-06-16T20:32:05.914721",
     "exception": false,
     "start_time": "2023-06-16T20:32:05.877594",
     "status": "completed"
    },
    "tags": []
   },
   "outputs": [],
   "source": [
    "y_pred = [Referencia_test.iloc[-1], \"2023-02\"]\n",
    "x_pred = [ipca_test.iloc[-1], float(\"{:.2f} \".format(previsao_ipca[0][0]))]"
   ]
  },
  {
   "cell_type": "code",
   "execution_count": 52,
   "id": "886f445e",
   "metadata": {
    "execution": {
     "iopub.execute_input": "2023-06-16T20:32:05.971121Z",
     "iopub.status.busy": "2023-06-16T20:32:05.970650Z",
     "iopub.status.idle": "2023-06-16T20:32:06.662454Z",
     "shell.execute_reply": "2023-06-16T20:32:06.661464Z"
    },
    "papermill": {
     "duration": 0.723672,
     "end_time": "2023-06-16T20:32:06.665833",
     "exception": false,
     "start_time": "2023-06-16T20:32:05.942161",
     "status": "completed"
    },
    "tags": []
   },
   "outputs": [
    {
     "data": {
      "image/png": "[encoded data removed]",
      "text/plain": [
       "<Figure size 1200x600 with 1 Axes>"
      ]
     },
     "metadata": {},
     "output_type": "display_data"
    }
   ],
   "source": [
    "plt.figure(figsize=(12, 6))  # Ajuste o tamanho da figura de acordo com suas preferências\n",
    "\n",
    "# Plota os dados de teste\n",
    "plt.plot(Referencia_test, ipca_test, label=\"IPCA - Teste\", color='black')\n",
    "\n",
    "# Plota as previsões do modelo\n",
    "plt.plot(y_pred, x_pred, label=\"IPCA - Predição\", color='red')\n",
    "\n",
    "plt.xlabel(\"Período de Referência\")\n",
    "plt.ylabel(\"Variação do IPCA\")\n",
    "plt.xticks(rotation=45)  # Rotaciona os rótulos do eixo x para melhor legibilidade\n",
    "\n",
    "plt.title(\"Teste do Modelo de Previsão Inflacionária - IPCA pelo IPCA15 / Fevereiro\")\n",
    "plt.legend()\n",
    "\n",
    "plt.tight_layout()  # Melhora o espaçamento entre os elementos do gráfico\n",
    "plt.show()"
   ]
  },
  {
   "cell_type": "code",
   "execution_count": 47,
   "id": "04237375",
   "metadata": {
    "execution": {
     "iopub.execute_input": "2023-06-16T20:32:06.728586Z",
     "iopub.status.busy": "2023-06-16T20:32:06.727502Z",
     "iopub.status.idle": "2023-06-16T20:32:06.734629Z",
     "shell.execute_reply": "2023-06-16T20:32:06.733764Z"
    },
    "papermill": {
     "duration": 0.040463,
     "end_time": "2023-06-16T20:32:06.736946",
     "exception": false,
     "start_time": "2023-06-16T20:32:06.696483",
     "status": "completed"
    },
    "tags": []
   },
   "outputs": [
    {
     "data": {
      "text/plain": [
       "0.72"
      ]
     },
     "execution_count": 47,
     "metadata": {},
     "output_type": "execute_result"
    }
   ],
   "source": [
    "float(\"{:.2f} \".format(previsao_ipca[0][0]))"
   ]
  },
  {
   "cell_type": "code",
   "execution_count": null,
   "metadata": {},
   "outputs": [],
   "source": []
  }
 ],
 "metadata": {
  "kernelspec": {
   "display_name": "Python 3",
   "language": "python",
   "name": "python3"
  },
  "language_info": {
   "codemirror_mode": {
    "name": "ipython",
    "version": 3
   },
   "file_extension": ".py",
   "mimetype": "text/x-python",
   "name": "python",
   "nbconvert_exporter": "python",
   "pygments_lexer": "ipython3",
   "version": "3.11.4"
  },
  "papermill": {
   "default_parameters": {},
   "duration": 21.885848,
   "end_time": "2023-06-16T20:32:07.648188",
   "environment_variables": {},
   "exception": null,
   "input_path": "__notebook__.ipynb",
   "output_path": "__notebook__.ipynb",
   "parameters": {},
   "start_time": "2023-06-16T20:31:45.762340",
   "version": "2.3.4"
  }
 },
 "nbformat": 4,
 "nbformat_minor": 5
}
